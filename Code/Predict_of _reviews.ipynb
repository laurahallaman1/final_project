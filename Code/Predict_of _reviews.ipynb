{
  "nbformat": 4,
  "nbformat_minor": 0,
  "metadata": {
    "colab": {
      "name": "Copy of Untitled4.ipynb",
      "provenance": [],
      "collapsed_sections": [],
      "authorship_tag": "ABX9TyN6F8dwbPkVzquLwMqK9gr/",
      "include_colab_link": true
    },
    "kernelspec": {
      "name": "python3",
      "display_name": "Python 3"
    }
  },
  "cells": [
    {
      "cell_type": "markdown",
      "metadata": {
        "id": "view-in-github",
        "colab_type": "text"
      },
      "source": [
        "<a href=\"https://colab.research.google.com/github/laurahallaman1/final_project/blob/master/Predict_of%20_reviews.ipynb\" target=\"_parent\"><img src=\"https://colab.research.google.com/assets/colab-badge.svg\" alt=\"Open In Colab\"/></a>"
      ]
    },
    {
      "cell_type": "code",
      "metadata": {
        "id": "cEZWekfsbTZ2",
        "colab_type": "code",
        "colab": {}
      },
      "source": [
        "# Install Java, Spark, and Findspark\n",
        "!apt-get install openjdk-8-jdk-headless -qq > /dev/null\n",
        "!wget -q http://www-us.apache.org/dist/spark/spark-2.4.5/spark-2.4.5-bin-hadoop2.7.tgz\n",
        "!tar xf spark-2.4.5-bin-hadoop2.7.tgz\n",
        "!pip install -q findspark\n",
        "\n",
        "# Set Environment Variables\n",
        "import os\n",
        "os.environ[\"JAVA_HOME\"] = \"/usr/lib/jvm/java-8-openjdk-amd64\"\n",
        "os.environ[\"SPARK_HOME\"] = \"/content/spark-2.4.5-bin-hadoop2.7\"\n",
        "\n",
        "# Start a SparkSession\n",
        "import findspark\n",
        "findspark.init()"
      ],
      "execution_count": 0,
      "outputs": []
    },
    {
      "cell_type": "code",
      "metadata": {
        "id": "Fsldk6o9bWVI",
        "colab_type": "code",
        "colab": {}
      },
      "source": [
        " # Start Spark session\n",
        "from pyspark.sql import SparkSession\n",
        "spark = SparkSession.builder.appName(\"NaiveBayes\").getOrCreate()"
      ],
      "execution_count": 0,
      "outputs": []
    },
    {
      "cell_type": "code",
      "metadata": {
        "id": "LH_q80iMbWai",
        "colab_type": "code",
        "outputId": "38de557a-a2ca-4cca-975d-6bac1fbc7b3e",
        "colab": {
          "base_uri": "https://localhost:8080/",
          "height": 710
        }
      },
      "source": [
        "# Read in data from S3 Buckets\n",
        "from pyspark import SparkFiles\n",
        "url =\"https://raw.githubusercontent.com/laurahallaman1/final_project/master/Reviewer_Combined_Amazon_Consumer_Reviews.csv\"\n",
        "spark.sparkContext.addFile(url)\n",
        "df = spark.read.csv(SparkFiles.get(\"Reviewer_Combined_Amazon_Consumer_Reviews.csv\"), sep=\",\", header=True)\n",
        "\n",
        "# Show DataFrame\n",
        "df.show(30)"
      ],
      "execution_count": 0,
      "outputs": [
        {
          "output_type": "stream",
          "text": [
            "+--------------------+--------------------+--------------------+--------------------+-----------+----------+------+--------------------+--------------------+--------+--------+\n",
            "|                  id|                name|               asins|   primaryCategories|doRecommend|numHelpful|rating|                text|               title|username|reviewer|\n",
            "+--------------------+--------------------+--------------------+--------------------+-----------+----------+------+--------------------+--------------------+--------+--------+\n",
            "|AVpgdkC8ilAPnD_xsvyi|Fire Tablet 7 Dis...|          B018Y22BI4|         Electronics|       TRUE|         0|     3|Serves the purpos...|          Good price|     712|     Bot|\n",
            "|AVqkIdZiv8e3D1O-leaJ|Fire Tablet with ...|          B018Y224PY|         Electronics|       TRUE|         0|     3|Serves the purpos...|          Good price|     712|     Bot|\n",
            "|AVpjEN4jLJeJML43rpUe|Fire Tablet with ...|          B018Y225IA|         Electronics|       TRUE|         0|     3|Serves the purpos...|          Good price|     712|     Bot|\n",
            "|AVqVGWQDv8e3D1O-ldFr|All-New Fire HD 8...|B018SZT3BK,B01AHB...|         Electronics|       TRUE|         0|     5|This tablet is sm...|        Great tablet|    1098|     Bot|\n",
            "|AVqkIhxunnc1JgDc3kg_|Fire HD 8 Tablet ...|          B018T075DC|         Electronics|       TRUE|         0|     5|This tablet is sm...|        Great tablet|    1098|     Bot|\n",
            "|AVpfw2hvilAPnD_xh0rH|Fire Kids Edition...|          B018Y226XO|Toys & Games,Elec...|       TRUE|         0|     3|This device is a ...| Good for 4 year old|    1234|     Bot|\n",
            "|AVph0EeEilAPnD_x9myq|Fire Kids Edition...|          B018Y22C2Y|         Electronics|       TRUE|         0|     3|This device is a ...| Good for 4 year old|    1234|     Bot|\n",
            "|AVqVGWLKnnc1JgDc3jF1|Fire Kids Edition...|          B018Y23MNM|         Electronics|       TRUE|         0|     3|This device is a ...| Good for 4 year old|    1234|     Bot|\n",
            "|AVph0EeEilAPnD_x9myq|Fire Kids Edition...|          B018Y22C2Y|         Electronics|       TRUE|         0|     3|This device is a ...| Good for 4 year old|    1234|     Bot|\n",
            "|AVpgdkC8ilAPnD_xsvyi|Fire Tablet 7 Dis...|          B018Y22BI4|         Electronics|       TRUE|         3|     5|Using for Pandora...|          Easy Setup|    1234|     Bot|\n",
            "|AVqkIdZiv8e3D1O-leaJ|Fire Tablet with ...|          B018Y224PY|         Electronics|       TRUE|         2|     5|Using for Pandora...|          Easy Setup|    1234|     Bot|\n",
            "|AVpjEN4jLJeJML43rpUe|Fire Tablet with ...|          B018Y225IA|         Electronics|       TRUE|         3|     5|Using for Pandora...|          Easy Setup|    1234|     Bot|\n",
            "|AVpgdkC8ilAPnD_xsvyi|Fire Tablet 7 Dis...|          B018Y22BI4|         Electronics|       TRUE|         3|     5|Using for Pandora...|          Easy Setup|    1234|     Bot|\n",
            "|AVpjEN4jLJeJML43rpUe|\"Brand New Amazon...|          B018Y225IA|         Electronics|       TRUE|         3|     5|Using for Pandora...|          Easy Setup|    1234|     Bot|\n",
            "|AVqkIdZiv8e3D1O-leaJ|\"Fire Tablet with...|          B018Y224PY|         Electronics|       TRUE|         2|     5|Using for Pandora...|          Easy Setup|    1234|     Bot|\n",
            "|AVpfpK8KLJeJML43BCuD|Amazon Tap Smart ...|          B01BH83OOM|         Electronics|       TRUE|         0|     4|Was a little diff...|          Amazon Tap|    1234|     Bot|\n",
            "|AVpfpK8KLJeJML43BCuD|Amazon Tap - Alex...|          B01BH83OOM|         Electronics|       TRUE|         0|     4|Was a little diff...|          Amazon Tap|    1234|     Bot|\n",
            "|AVqVGZN9QMlgsOJE6eUZ|Kindle Oasis E-re...|          B00REQKWGA|         Electronics|       TRUE|         0|     5|Wife love it, rea...|       great product|    1244|     Bot|\n",
            "|AVqVGZO3nnc1JgDc3jGK|Kindle Oasis E-re...|          B00VINDBJK|   Electronics,Media|       TRUE|         0|     5|Wife love it, rea...|       great product|    1244|     Bot|\n",
            "|AVqVGZQBQMlgsOJE6eUb|Kindle Oasis E-re...|          B00ZS0G0PG|   Electronics,Media|       TRUE|         0|     5|Wife love it, rea...|       great product|    1244|     Bot|\n",
            "|AVqVGZO3nnc1JgDc3jGK|Kindle Oasis E-re...|          B00VINDBJK|   Electronics,Media|       TRUE|         0|     5|Wife love it, rea...|       great product|    1244|     Bot|\n",
            "|AVqVGZN9QMlgsOJE6eUZ|\"Kindle Oasis E-r...|          B00REQKWGA|         Electronics|       TRUE|         0|     5|Wife love it, rea...|       great product|    1244|     Bot|\n",
            "|AVqVGZN9QMlgsOJE6eUZ|\"Kindle Oasis E-r...|          B00REQKWGA|         Electronics|       TRUE|         0|     5|Wife love it, rea...|       great product|    1244|     Bot|\n",
            "|AVpfw2hvilAPnD_xh0rH|Fire Kids Edition...|          B018Y226XO|Toys & Games,Elec...|       TRUE|         0|     5|Easy to use, hand...| Great for a toddler|    1254|     Bot|\n",
            "|AVph0EeEilAPnD_x9myq|Fire Kids Edition...|          B018Y22C2Y|         Electronics|       TRUE|         0|     5|Easy to use, hand...| Great for a toddler|    1254|     Bot|\n",
            "|AVqVGWLKnnc1JgDc3jF1|Fire Kids Edition...|          B018Y23MNM|         Electronics|       TRUE|         0|     5|Easy to use, hand...| Great for a toddler|    1254|     Bot|\n",
            "|AVph0EeEilAPnD_x9myq|Fire Kids Edition...|          B018Y22C2Y|         Electronics|       TRUE|         0|     5|Easy to use, hand...| Great for a toddler|    1254|     Bot|\n",
            "|AVpfw2hvilAPnD_xh0rH|Fire Kids Edition...|          B018Y226XO|Toys & Games,Elec...|       TRUE|         0|     5|Bought for my 2 y...|This is a great p...|    1612|     Bot|\n",
            "|AVqVGWLKnnc1JgDc3jF1|Fire Kids Edition...|          B018Y23MNM|         Electronics|       TRUE|         0|     5|Bought for my 2 y...|This is a great p...|    1612|     Bot|\n",
            "|AVqVGWLKnnc1JgDc3jF1|Fire Kids Edition...|          B018Y23MNM|         Electronics|       TRUE|         0|     5|Bought for my 2 y...|This is a great p...|    1612|     Bot|\n",
            "+--------------------+--------------------+--------------------+--------------------+-----------+----------+------+--------------------+--------------------+--------+--------+\n",
            "only showing top 30 rows\n",
            "\n"
          ],
          "name": "stdout"
        }
      ]
    },
    {
      "cell_type": "code",
      "metadata": {
        "id": "80srfYxvbWZB",
        "colab_type": "code",
        "outputId": "bfdbab0d-fa6f-44c1-b29a-1011e04e7687",
        "colab": {
          "base_uri": "https://localhost:8080/",
          "height": 523
        }
      },
      "source": [
        "from pyspark.sql.functions import length\n",
        "# Create a length column to be used as a future feature \n",
        "data_df = df.withColumn('length', length(df['text']))\n",
        "data_df.show()"
      ],
      "execution_count": 0,
      "outputs": [
        {
          "output_type": "stream",
          "text": [
            "+--------------------+--------------------+--------------------+--------------------+-----------+----------+------+--------------------+-------------------+--------+--------+------+\n",
            "|                  id|                name|               asins|   primaryCategories|doRecommend|numHelpful|rating|                text|              title|username|reviewer|length|\n",
            "+--------------------+--------------------+--------------------+--------------------+-----------+----------+------+--------------------+-------------------+--------+--------+------+\n",
            "|AVpgdkC8ilAPnD_xsvyi|Fire Tablet 7 Dis...|          B018Y22BI4|         Electronics|       TRUE|         0|     3|Serves the purpos...|         Good price|     712|     Bot|    59|\n",
            "|AVqkIdZiv8e3D1O-leaJ|Fire Tablet with ...|          B018Y224PY|         Electronics|       TRUE|         0|     3|Serves the purpos...|         Good price|     712|     Bot|    59|\n",
            "|AVpjEN4jLJeJML43rpUe|Fire Tablet with ...|          B018Y225IA|         Electronics|       TRUE|         0|     3|Serves the purpos...|         Good price|     712|     Bot|    59|\n",
            "|AVqVGWQDv8e3D1O-ldFr|All-New Fire HD 8...|B018SZT3BK,B01AHB...|         Electronics|       TRUE|         0|     5|This tablet is sm...|       Great tablet|    1098|     Bot|   119|\n",
            "|AVqkIhxunnc1JgDc3kg_|Fire HD 8 Tablet ...|          B018T075DC|         Electronics|       TRUE|         0|     5|This tablet is sm...|       Great tablet|    1098|     Bot|   119|\n",
            "|AVpfw2hvilAPnD_xh0rH|Fire Kids Edition...|          B018Y226XO|Toys & Games,Elec...|       TRUE|         0|     3|This device is a ...|Good for 4 year old|    1234|     Bot|    85|\n",
            "|AVph0EeEilAPnD_x9myq|Fire Kids Edition...|          B018Y22C2Y|         Electronics|       TRUE|         0|     3|This device is a ...|Good for 4 year old|    1234|     Bot|    85|\n",
            "|AVqVGWLKnnc1JgDc3jF1|Fire Kids Edition...|          B018Y23MNM|         Electronics|       TRUE|         0|     3|This device is a ...|Good for 4 year old|    1234|     Bot|    85|\n",
            "|AVph0EeEilAPnD_x9myq|Fire Kids Edition...|          B018Y22C2Y|         Electronics|       TRUE|         0|     3|This device is a ...|Good for 4 year old|    1234|     Bot|    85|\n",
            "|AVpgdkC8ilAPnD_xsvyi|Fire Tablet 7 Dis...|          B018Y22BI4|         Electronics|       TRUE|         3|     5|Using for Pandora...|         Easy Setup|    1234|     Bot|    98|\n",
            "|AVqkIdZiv8e3D1O-leaJ|Fire Tablet with ...|          B018Y224PY|         Electronics|       TRUE|         2|     5|Using for Pandora...|         Easy Setup|    1234|     Bot|    98|\n",
            "|AVpjEN4jLJeJML43rpUe|Fire Tablet with ...|          B018Y225IA|         Electronics|       TRUE|         3|     5|Using for Pandora...|         Easy Setup|    1234|     Bot|    98|\n",
            "|AVpgdkC8ilAPnD_xsvyi|Fire Tablet 7 Dis...|          B018Y22BI4|         Electronics|       TRUE|         3|     5|Using for Pandora...|         Easy Setup|    1234|     Bot|    98|\n",
            "|AVpjEN4jLJeJML43rpUe|\"Brand New Amazon...|          B018Y225IA|         Electronics|       TRUE|         3|     5|Using for Pandora...|         Easy Setup|    1234|     Bot|    98|\n",
            "|AVqkIdZiv8e3D1O-leaJ|\"Fire Tablet with...|          B018Y224PY|         Electronics|       TRUE|         2|     5|Using for Pandora...|         Easy Setup|    1234|     Bot|    98|\n",
            "|AVpfpK8KLJeJML43BCuD|Amazon Tap Smart ...|          B01BH83OOM|         Electronics|       TRUE|         0|     4|Was a little diff...|         Amazon Tap|    1234|     Bot|   180|\n",
            "|AVpfpK8KLJeJML43BCuD|Amazon Tap - Alex...|          B01BH83OOM|         Electronics|       TRUE|         0|     4|Was a little diff...|         Amazon Tap|    1234|     Bot|   180|\n",
            "|AVqVGZN9QMlgsOJE6eUZ|Kindle Oasis E-re...|          B00REQKWGA|         Electronics|       TRUE|         0|     5|Wife love it, rea...|      great product|    1244|     Bot|    55|\n",
            "|AVqVGZO3nnc1JgDc3jGK|Kindle Oasis E-re...|          B00VINDBJK|   Electronics,Media|       TRUE|         0|     5|Wife love it, rea...|      great product|    1244|     Bot|    55|\n",
            "|AVqVGZQBQMlgsOJE6eUb|Kindle Oasis E-re...|          B00ZS0G0PG|   Electronics,Media|       TRUE|         0|     5|Wife love it, rea...|      great product|    1244|     Bot|    55|\n",
            "+--------------------+--------------------+--------------------+--------------------+-----------+----------+------+--------------------+-------------------+--------+--------+------+\n",
            "only showing top 20 rows\n",
            "\n"
          ],
          "name": "stdout"
        }
      ]
    },
    {
      "cell_type": "code",
      "metadata": {
        "id": "tBHTNk30zfU_",
        "colab_type": "code",
        "colab": {}
      },
      "source": [
        " from pyspark.ml.feature import Tokenizer, StopWordsRemover, HashingTF, IDF, StringIndexer\n",
        "# Create all the features to the data set\n",
        "pos_neg_to_num = StringIndexer(inputCol='rating',outputCol='label')\n",
        "tokenizer = Tokenizer(inputCol=\"text\", outputCol=\"token_text\")\n",
        "stopremove = StopWordsRemover(inputCol='token_text',outputCol='stop_tokens')\n",
        "hashingTF = HashingTF(inputCol=\"token_text\", outputCol='hash_token')\n",
        "idf = IDF(inputCol='hash_token', outputCol='idf_token')"
      ],
      "execution_count": 0,
      "outputs": []
    },
    {
      "cell_type": "code",
      "metadata": {
        "id": "Pow8HsLqzfbR",
        "colab_type": "code",
        "colab": {}
      },
      "source": [
        " from pyspark.ml.feature import VectorAssembler\n",
        "from pyspark.ml.linalg import Vector\n",
        "\n",
        "# Create feature vectors\n",
        "clean_up = VectorAssembler(inputCols=['idf_token', 'length'], outputCol='features')"
      ],
      "execution_count": 0,
      "outputs": []
    },
    {
      "cell_type": "code",
      "metadata": {
        "id": "JtdtwoPvzfhC",
        "colab_type": "code",
        "colab": {}
      },
      "source": [
        "# Create a and run a data processing Pipeline\n",
        "from pyspark.ml import Pipeline\n",
        "data_prep_pipeline = Pipeline(stages=[pos_neg_to_num, tokenizer, stopremove, hashingTF, idf, clean_up])"
      ],
      "execution_count": 0,
      "outputs": []
    },
    {
      "cell_type": "code",
      "metadata": {
        "id": "tF5WZD-Azn6y",
        "colab_type": "code",
        "colab": {}
      },
      "source": [
        " # Fit and transform the pipeline\n",
        "cleaner = data_prep_pipeline.fit(data_df)\n",
        "cleaned = cleaner.transform(data_df)"
      ],
      "execution_count": 0,
      "outputs": []
    },
    {
      "cell_type": "code",
      "metadata": {
        "id": "GimhAFsPzn98",
        "colab_type": "code",
        "outputId": "d2518969-ce2f-46ea-9a01-5715d4e62fe4",
        "colab": {
          "base_uri": "https://localhost:8080/",
          "height": 503
        }
      },
      "source": [
        "cleaned.select(['label', 'features']).show()"
      ],
      "execution_count": 0,
      "outputs": [
        {
          "output_type": "stream",
          "text": [
            "+-----+--------------------+\n",
            "|label|            features|\n",
            "+-----+--------------------+\n",
            "|  2.0|(262145,[16332,25...|\n",
            "|  2.0|(262145,[16332,25...|\n",
            "|  2.0|(262145,[16332,25...|\n",
            "|  0.0|(262145,[15889,16...|\n",
            "|  0.0|(262145,[15889,16...|\n",
            "|  2.0|(262145,[15889,16...|\n",
            "|  2.0|(262145,[15889,16...|\n",
            "|  2.0|(262145,[15889,16...|\n",
            "|  2.0|(262145,[15889,16...|\n",
            "|  0.0|(262145,[12888,16...|\n",
            "|  0.0|(262145,[12888,16...|\n",
            "|  0.0|(262145,[12888,16...|\n",
            "|  0.0|(262145,[12888,16...|\n",
            "|  0.0|(262145,[12888,16...|\n",
            "|  0.0|(262145,[12888,16...|\n",
            "|  1.0|(262145,[14,2711,...|\n",
            "|  1.0|(262145,[14,2711,...|\n",
            "|  0.0|(262145,[15889,27...|\n",
            "|  0.0|(262145,[15889,27...|\n",
            "|  0.0|(262145,[15889,27...|\n",
            "+-----+--------------------+\n",
            "only showing top 20 rows\n",
            "\n"
          ],
          "name": "stdout"
        }
      ]
    },
    {
      "cell_type": "code",
      "metadata": {
        "id": "ajlXxxvQXPA2",
        "colab_type": "code",
        "colab": {}
      },
      "source": [
        "from pyspark.ml.classification import NaiveBayes\n",
        "# Break data down into a training set and a testing set\n",
        "training, testing = cleaned.randomSplit([0.7, 0.3])\n",
        "\n",
        "# Create a Naive Bayes model and fit training data\n",
        "nb = NaiveBayes()\n",
        "predictor = nb.fit(training)"
      ],
      "execution_count": 0,
      "outputs": []
    },
    {
      "cell_type": "code",
      "metadata": {
        "id": "sLTgygygzoEY",
        "colab_type": "code",
        "outputId": "bc64a321-285b-4aff-8247-6d83765676aa",
        "colab": {
          "base_uri": "https://localhost:8080/",
          "height": 710
        }
      },
      "source": [
        "test_results = predictor.transform(testing)\n",
        "test_results.show(30)"
      ],
      "execution_count": 0,
      "outputs": [
        {
          "output_type": "stream",
          "text": [
            "+--------------------+--------------------+--------------------+-----------------+-----------+----------+------+--------------------+--------------------+------------------+--------+------+-----+--------------------+--------------------+--------------------+--------------------+--------------------+--------------------+--------------------+----------+\n",
            "|                  id|                name|               asins|primaryCategories|doRecommend|numHelpful|rating|                text|               title|          username|reviewer|length|label|          token_text|         stop_tokens|          hash_token|           idf_token|            features|       rawPrediction|         probability|prediction|\n",
            "+--------------------+--------------------+--------------------+-----------------+-----------+----------+------+--------------------+--------------------+------------------+--------+------+-----+--------------------+--------------------+--------------------+--------------------+--------------------+--------------------+--------------------+----------+\n",
            "|AV-EVZITKZqtpbFMSoqc|All-New Kindle Oa...|          B06XD5YCKX|Electronics,Media|       TRUE|         1|     5|Bought this as a ...|Upgrade from Pape...|          Nickname| userBot|   170|  0.0|[bought, this, as...|[bought, birthday...|(262144,[5765,158...|(262144,[5765,158...|(262145,[5765,158...|[-994.98838973014...|[1.0,2.0278018923...|       0.0|\n",
            "|AV-EVZITKZqtpbFMSoqc|All-New Kindle Oa...|          B06XD5YCKX|Electronics,Media|       TRUE|         3|     4|I love this so fa...|             Like it|           kcladyz| userBot|   208|  1.0|[i, love, this, s...|[love, far, downs...|(262144,[2711,111...|(262144,[2711,111...|(262145,[2711,111...|[-1570.6661296222...|[0.99999999999999...|       0.0|\n",
            "|AVpe6nyKLJeJML43yOe2|AmazonBasics 11.6...|B01B66989K,B00CD8...|      Electronics|       null|      null|     3|BETTER THAN NOTHI...|BETTER THAN NOTHI...|    RaphaelRicardo| userBot|   845|  2.0|[better, than, no...|[better, nothing,...|(262144,[343,845,...|(262144,[343,845,...|(262145,[343,845,...|[-8152.2511259979...|[0.0,0.0,1.0,0.0,...|       2.0|\n",
            "|AVpe6nyKLJeJML43yOe2|AmazonBasics 11.6...|B01B66989K,B00CD8...|      Electronics|       null|      null|     5|Recently, I spent...|Perfect. 342 peop...|          Don Juan| userBot|  1489|  0.0|[recently,, i, sp...|[recently,, spent...|(262144,[343,2306...|(262144,[343,2306...|(262145,[343,2306...|[-13173.300379021...|[1.0,0.0,0.0,0.0,...|       0.0|\n",
            "|AVpe7xlELJeJML43ypLz|AmazonBasics AA P...|B00QWO9P0O,B01IB8...|  Health & Beauty|       null|      null|     1|       All were dead|            One Star|    ByJames J. Foy|     Bot|    13|  3.0|   [all, were, dead]|              [dead]|(262144,[11275,13...|(262144,[11275,13...|(262145,[11275,13...|[-118.38858484817...|[0.00129495454548...|       3.0|\n",
            "|AVpe7xlELJeJML43ypLz|AmazonBasics AA P...|B00QWO9P0O,B01IB8...|  Health & Beauty|       null|      null|     1|Alot of the batte...|            One Star| ByAmazon Customer|     Bot|    44|  3.0|[alot, of, the, b...|[alot, batteries,...|(262144,[4900,963...|(262144,[4900,963...|(262145,[4900,963...|[-317.05251638621...|[0.99956124326638...|       0.0|\n",
            "|AVpe7xlELJeJML43ypLz|AmazonBasics AA P...|B00QWO9P0O,B01IB8...|  Health & Beauty|       null|      null|     1|Batteries die ver...|Ok but they don't...|    ByJackie Miles|     Bot|    65|  3.0|[batteries, die, ...|[batteries, die, ...|(262144,[3114,163...|(262144,[3114,163...|(262145,[3114,163...|[-327.58984605751...|[0.99999999738550...|       0.0|\n",
            "|AVpe7xlELJeJML43ypLz|AmazonBasics AA P...|B00QWO9P0O,B01IB8...|  Health & Beauty|       null|      null|     1|Batteries seem to...|    Poor performance| ByAmazon Customer| userBot|    47|  3.0|[batteries, seem,...|[batteries, seem,...|(262144,[68056,77...|(262144,[68056,77...|(262145,[68056,77...|[-301.42524585279...|[0.80264534335695...|       0.0|\n",
            "|AVpe7xlELJeJML43ypLz|AmazonBasics AA P...|B00QWO9P0O,B01IB8...|  Health & Beauty|       null|      null|     1|DO not buy this p...|   Useless batteries|ByAnnette Fabrizio| userBot|   434|  3.0|[do, not, buy, th...|[buy, product, re...|(262144,[9521,963...|(262144,[9521,963...|(262145,[9521,963...|[-2696.7986516013...|[1.0,8.1325243128...|       0.0|\n",
            "|AVpe7xlELJeJML43ypLz|AmazonBasics AA P...|B00QWO9P0O,B01IB8...|  Health & Beauty|       null|      null|     1|Defective and che...|           Defective|       ByC. Brozek|     Bot|    76|  3.0|[defective, and, ...|[defective, cheap...|(262144,[45751,74...|(262144,[45751,74...|(262145,[45751,74...|[-604.38432848801...|[0.99999999912068...|       0.0|\n",
            "|AVpe7xlELJeJML43ypLz|AmazonBasics AA P...|B00QWO9P0O,B01IB8...|  Health & Beauty|       null|      null|     1|Does not last as ...|            One Star| ByAmazon Customer|     Bot|    43|  3.0|[does, not, last,...|[last, long, good...|(262144,[5381,509...|(262144,[5381,509...|(262145,[5381,509...|[-160.50480682347...|[0.99994662430965...|       0.0|\n",
            "|AVpe7xlELJeJML43ypLz|AmazonBasics AA P...|B00QWO9P0O,B01IB8...|  Health & Beauty|       null|      null|     1|Every single batt...|Leaked Battery Ac...|ByBarbara A. Gruss| userBot|  1046|  3.0|[every, single, b...|[every, single, b...|(262144,[2841,821...|(262144,[2841,821...|(262145,[2841,821...|[-7671.1893134687...|[1.0,7.8263105002...|       0.0|\n",
            "|AVpe7xlELJeJML43ypLz|AmazonBasics AA P...|B00QWO9P0O,B01IB8...|  Health & Beauty|       null|      null|     1|Extremely short s...|Batteries fail af...| Bykathleen naimon|     Bot|    80|  3.0|[extremely, short...|[extremely, short...|(262144,[7388,680...|(262144,[7388,680...|(262145,[7388,680...|[-526.09282289328...|[0.99998660056749...|       0.0|\n",
            "|AVpe7xlELJeJML43ypLz|AmazonBasics AA P...|B00QWO9P0O,B01IB8...|  Health & Beauty|       null|      null|     1|Had my first batt...|Battery leaked 2 ...| ByAmazon Customer| userBot|   422|  3.0|[had, my, first, ...|[first, battery, ...|(262144,[2083,714...|(262144,[2083,714...|(262145,[2083,714...|[-3599.6929050824...|[2.44326831821749...|       3.0|\n",
            "|AVpe7xlELJeJML43ypLz|AmazonBasics AA P...|B00QWO9P0O,B01IB8...|  Health & Beauty|       null|      null|     1|I don't know why ...|Don't last long -...|       ByJess Moss| userBot|   324|  3.0|[i, don't, know, ...|[know, things, la...|(262144,[5381,111...|(262144,[5381,111...|(262145,[5381,111...|[-1903.6281321511...|[1.0,3.0143361778...|       0.0|\n",
            "|AVpe7xlELJeJML43ypLz|AmazonBasics AA P...|B00QWO9P0O,B01IB8...|  Health & Beauty|       null|      null|     1|I got a bad batch...|                 DOA|    ByCasey Hester|     Bot|    94|  3.0|[i, got, a, bad, ...|[got, bad, batch....|(262144,[9639,244...|(262144,[9639,244...|(262145,[9639,244...|[-816.55341683661...|[6.40351379108175...|       3.0|\n",
            "|AVpe7xlELJeJML43ypLz|AmazonBasics AA P...|B00QWO9P0O,B01IB8...|  Health & Beauty|       null|      null|     1|I like these batt...|     Leaky batteries| ByAmazon Customer| userBot|   276|  3.0|[i, like, these, ...|[like, batteries,...|(262144,[6258,963...|(262144,[6258,963...|(262145,[6258,963...|[-1958.3151334474...|[1.0,2.6897702016...|       0.0|\n",
            "|AVpe7xlELJeJML43ypLz|AmazonBasics AA P...|B00QWO9P0O,B01IB8...|  Health & Beauty|       null|      null|     1|I opened the pack...|the car run just ...| ByAmazon Customer| userBot|   262|  3.0|[i, opened, the, ...|[opened, package,...|(262144,[12084,15...|(262144,[12084,15...|(262145,[12084,15...|[-1755.5733304383...|[1.0,1.6131541007...|       0.0|\n",
            "|AVpe7xlELJeJML43ypLz|AmazonBasics AA P...|B00QWO9P0O,B01IB8...|  Health & Beauty|       null|      null|     1|I ordered a box o...|  Won't order again.|            ByDina|     Bot|   245|  3.0|[i, ordered, a, b...|[ordered, box, aa...|(262144,[9521,963...|(262144,[9521,963...|(262145,[9521,963...|[-1608.4198402704...|[1.0,4.5750096772...|       0.0|\n",
            "|AVpe7xlELJeJML43ypLz|AmazonBasics AA P...|B00QWO9P0O,B01IB8...|  Health & Beauty|       null|      null|     1|I purchased these...|I figured Amazon ...|   ByMichael Scott| userBot|   368|  3.0|[i, purchased, th...|[purchased, batte...|(262144,[1109,912...|(262144,[1109,912...|(262145,[1109,912...|[-2336.9587453967...|[1.0,4.0060602107...|       0.0|\n",
            "|AVpe7xlELJeJML43ypLz|AmazonBasics AA P...|B00QWO9P0O,B01IB8...|  Health & Beauty|       null|      null|     1|I will not purcha...|    Not long lasting|           BySteve| userBot|    83|  3.0|[i, will, not, pu...|[purchase, again....|(262144,[5381,963...|(262144,[5381,963...|(262145,[5381,963...|[-440.69960386993...|[1.0,1.5828596902...|       0.0|\n",
            "|AVpe7xlELJeJML43ypLz|AmazonBasics AA P...|B00QWO9P0O,B01IB8...|  Health & Beauty|       null|      null|     1|    Junk wont charge|            One Star|     ByRobert Webb|     Bot|    16|  3.0|[junk, wont, charge]|[junk, wont, charge]|(262144,[31986,12...|(262144,[31986,12...|(262145,[31986,12...|[-187.30629255357...|[0.11095090723679...|       3.0|\n",
            "|AVpe7xlELJeJML43ypLz|AmazonBasics AA P...|B00QWO9P0O,B01IB8...|  Health & Beauty|       null|      null|     1|Multiple batterie...|       Poor quality.|           ByCaleb|     Bot|    91|  3.0|[multiple, batter...|[multiple, batter...|(262144,[590,2411...|(262144,[590,2411...|(262145,[590,2411...|[-878.92552897640...|[3.02925142481862...|       3.0|\n",
            "|AVpe7xlELJeJML43ypLz|AmazonBasics AA P...|B00QWO9P0O,B01IB8...|  Health & Beauty|       null|      null|     1|Second purchase o...|Second purchase o...|          ByWillWF| userBot|   341|  3.0|[second, purchase...|[second, purchase...|(262144,[5381,963...|(262144,[5381,963...|(262145,[5381,963...|[-2080.3917028924...|[1.0,4.9427485673...|       0.0|\n",
            "|AVpe7xlELJeJML43ypLz|AmazonBasics AA P...|B00QWO9P0O,B01IB8...|  Health & Beauty|       null|      null|     1|Terrible. Just ch...|   Barely Batteries.|           BySarah| userBot|   349|  3.0|[terrible., just,...|[terrible., chang...|(262144,[9639,112...|(262144,[9639,112...|(262145,[9639,112...|[-2640.6403193417...|[1.0,1.7417487325...|       0.0|\n",
            "|AVpe7xlELJeJML43ypLz|AmazonBasics AA P...|B00QWO9P0O,B01IB8...|  Health & Beauty|       null|      null|     1|The batteries are...|but the good news...| ByAmazon Customer| userBot|   330|  3.0|[the, batteries, ...|[batteries, sligt...|(262144,[9639,158...|(262144,[9639,158...|(262145,[9639,158...|[-2554.7794220046...|[1.0,1.0099320358...|       0.0|\n",
            "|AVpe7xlELJeJML43ypLz|AmazonBasics AA P...|B00QWO9P0O,B01IB8...|  Health & Beauty|       null|      null|     1|These are cheap b...|WORST BATTERIES E...|         ByBethany| userBot|   283|  3.0|[these, are, chea...|[cheap, batteries...|(262144,[1109,123...|(262144,[1109,123...|(262145,[1109,123...|[-2245.3917824409...|[2.13810230403520...|       3.0|\n",
            "|AVpe7xlELJeJML43ypLz|AmazonBasics AA P...|B00QWO9P0O,B01IB8...|  Health & Beauty|       null|      null|     1|These batteries a...|Stay Far, Far Awa...|        ByVicki A.|     Bot|   232|  3.0|[these, batteries...|[batteries, horri...|(262144,[5381,963...|(262144,[5381,963...|(262145,[5381,963...|[-1848.3241079648...|[1.0,3.5339372059...|       0.0|\n",
            "|AVpe7xlELJeJML43ypLz|AmazonBasics AA P...|B00QWO9P0O,B01IB8...|  Health & Beauty|       null|      null|     1|These batteries a...|            One Star|            ByMatt|     Bot|    59|  3.0|[these, batteries...|[batteries, absol...|(262144,[68056,88...|(262144,[68056,88...|(262145,[68056,88...|[-404.42116224072...|[5.49548228078154...|       3.0|\n",
            "|AVpe7xlELJeJML43ypLz|AmazonBasics AA P...|B00QWO9P0O,B01IB8...|  Health & Beauty|       null|      null|     1|These batteries a...|            One Star|   ByGrandma Betty|     Bot|    53|  3.0|[these, batteries...|[batteries, awful...|(262144,[6369,386...|(262144,[6369,386...|(262145,[6369,386...|[-389.84347251706...|[2.90827019353611...|       3.0|\n",
            "+--------------------+--------------------+--------------------+-----------------+-----------+----------+------+--------------------+--------------------+------------------+--------+------+-----+--------------------+--------------------+--------------------+--------------------+--------------------+--------------------+--------------------+----------+\n",
            "only showing top 30 rows\n",
            "\n"
          ],
          "name": "stdout"
        }
      ]
    },
    {
      "cell_type": "code",
      "metadata": {
        "id": "3JebgQ082sUp",
        "colab_type": "code",
        "outputId": "e1ea1d6a-3eb2-41e1-8e07-6d1ed9f9448f",
        "colab": {
          "base_uri": "https://localhost:8080/",
          "height": 36
        }
      },
      "source": [
        " # Use the Class Evaluator for a cleaner description\n",
        "from pyspark.ml.evaluation import MulticlassClassificationEvaluator\n",
        "\n",
        "acc_eval = MulticlassClassificationEvaluator()\n",
        "acc = acc_eval.evaluate(test_results)\n",
        "print(\"Accuracy of model at predicting reviews was: %f\" % acc)"
      ],
      "execution_count": 0,
      "outputs": [
        {
          "output_type": "stream",
          "text": [
            "Accuracy of model at predicting reviews was: 0.698511\n"
          ],
          "name": "stdout"
        }
      ]
    },
    {
      "cell_type": "code",
      "metadata": {
        "id": "w7nH9UWj2sZf",
        "colab_type": "code",
        "colab": {}
      },
      "source": [
        "\n",
        "\n",
        "test_reslts.toPandas().to_csv('test_results.csv')\n",
        "\n"
      ],
      "execution_count": 0,
      "outputs": []
    },
    {
      "cell_type": "code",
      "metadata": {
        "id": "qfC2GYbq2scv",
        "colab_type": "code",
        "colab": {}
      },
      "source": [
        ""
      ],
      "execution_count": 0,
      "outputs": []
    }
  ]
}