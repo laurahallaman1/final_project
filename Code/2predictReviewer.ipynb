{
  "nbformat": 4,
  "nbformat_minor": 0,
  "metadata": {
    "colab": {
      "name": "Copy of Copy of Untitled4.ipynb",
      "provenance": [],
      "collapsed_sections": [],
      "authorship_tag": "ABX9TyMNA4jC3GAuIxn4eidwLhmw",
      "include_colab_link": true
    },
    "kernelspec": {
      "name": "python3",
      "display_name": "Python 3"
    }
  },
  "cells": [
    {
      "cell_type": "markdown",
      "metadata": {
        "id": "view-in-github",
        "colab_type": "text"
      },
      "source": [
        "<a href=\"https://colab.research.google.com/github/laurahallaman1/final_project/blob/master/Code/2predictReviewer.ipynb\" target=\"_parent\"><img src=\"https://colab.research.google.com/assets/colab-badge.svg\" alt=\"Open In Colab\"/></a>"
      ]
    },
    {
      "cell_type": "code",
      "metadata": {
        "id": "cEZWekfsbTZ2",
        "colab_type": "code",
        "colab": {}
      },
      "source": [
        "# Install Java, Spark, and Findspark\n",
        "!apt-get install openjdk-8-jdk-headless -qq > /dev/null\n",
        "!wget -q http://www-us.apache.org/dist/spark/spark-2.4.5/spark-2.4.5-bin-hadoop2.7.tgz\n",
        "!tar xf spark-2.4.5-bin-hadoop2.7.tgz\n",
        "!pip install -q findspark\n",
        "\n",
        "# Set Environment Variables\n",
        "import os\n",
        "os.environ[\"JAVA_HOME\"] = \"/usr/lib/jvm/java-8-openjdk-amd64\"\n",
        "os.environ[\"SPARK_HOME\"] = \"/content/spark-2.4.5-bin-hadoop2.7\"\n",
        "\n",
        "# Start a SparkSession\n",
        "import findspark\n",
        "findspark.init()"
      ],
      "execution_count": 0,
      "outputs": []
    },
    {
      "cell_type": "code",
      "metadata": {
        "id": "Fsldk6o9bWVI",
        "colab_type": "code",
        "colab": {}
      },
      "source": [
        " # Start Spark session\n",
        "from pyspark.sql import SparkSession\n",
        "spark = SparkSession.builder.appName(\"NaiveBayes\").getOrCreate()"
      ],
      "execution_count": 0,
      "outputs": []
    },
    {
      "cell_type": "code",
      "metadata": {
        "id": "LH_q80iMbWai",
        "colab_type": "code",
        "outputId": "cc0c40d8-7f1d-4e5e-89d3-10146187278f",
        "colab": {
          "base_uri": "https://localhost:8080/",
          "height": 687
        }
      },
      "source": [
        "\n",
        "from pyspark import SparkFiles\n",
        "url =\"https://raw.githubusercontent.com/laurahallaman1/final_project/master/Book3.csv\"\n",
        "spark.sparkContext.addFile(url)\n",
        "df = spark.read.csv(SparkFiles.get(\"Book3.csv\"), sep=\",\", header=True)\n",
        "\n",
        "# Show DataFrame\n",
        "df.show(30)"
      ],
      "execution_count": 82,
      "outputs": [
        {
          "output_type": "stream",
          "text": [
            "+--------------------+--------------------+--------------------+--------------------+-----------+----------+------+--------------------+--------------------+---------------+--------+\n",
            "|                  id|                name|               asins|   primaryCategories|doRecommend|numHelpful|rating|                text|               title|       username|reviewer|\n",
            "+--------------------+--------------------+--------------------+--------------------+-----------+----------+------+--------------------+--------------------+---------------+--------+\n",
            "|AVpgNzjwLJeJML43Kpxn|AmazonBasics AAA ...|B00QWO9P0O,B00LH3...|     Health & Beauty|       null|      null|     4|Seems to work jus...|                Good|     Bycherubs1|  Person|\n",
            "|AVqVGZNvQMlgsOJE6eUY|\"All-New Kindle E...|          B00ZV9PXP2|         Electronics|      FALSE|         0|     3|This was advertis...|Paper white is th...|       Kindler1|  Person|\n",
            "|AVqVGWLKnnc1JgDc3jF1|Fire Kids Edition...|          B018Y23MNM|         Electronics|       TRUE|         0|     5|They learned how ...|Granddaughters lo...|       Reneerid|     Bot|\n",
            "|AVpfw2hvilAPnD_xh0rH|Fire Kids Edition...|          B018Y226XO|Toys & Games,Elec...|      FALSE|         0|     1|Aside from the fa...|       Utter garbage|           Pete| userBot|\n",
            "|AVph0EeEilAPnD_x9myq|Fire Kids Edition...|          B018Y22C2Y|         Electronics|       TRUE|         0|     5|My Son absolutely...|         Fantastic!!|          Steve|     Bot|\n",
            "|AVpfpK8KLJeJML43BCuD|Amazon Tap Smart ...|          B01BH83OOM|         Electronics|       TRUE|         0|     4|Great speaker. Lo...|       Great product|         Meanum|  Person|\n",
            "|AVqkIhxunnc1JgDc3kg_|Fire HD 8 Tablet ...|          B018T075DC|         Electronics|       TRUE|         0|     5|Purchased this fo...|   Absolutely great!|         canman|  Person|\n",
            "|AVpjEN4jLJeJML43rpUe|\"Brand New Amazon...|          B018Y225IA|         Electronics|       TRUE|         0|     5|Next generation o...|Keeps the grand k...|    SurfingJohn|     Bot|\n",
            "|AVpe7xlELJeJML43ypLz|AmazonBasics AA P...|B00QWO9P0O,B01IB8...|     Health & Beauty|       null|      null|     4|Usually I buy bri...|     Now dairy-free!|  ByNate Werber|  Person|\n",
            "|AVpgNzjwLJeJML43Kpxn|AmazonBasics AAA ...|B00QWO9P0O,B00LH3...|     Health & Beauty|       null|      null|     1|I see that these ...|     I Won't Reorder|  ByNightrunner|  Person|\n",
            "|AVpgNzjwLJeJML43Kpxn|AmazonBasics AAA ...|B00QWO9P0O,B00LH3...|     Health & Beauty|       null|      null|     5|These batteries a...|Great value for t...|ByVictor Medina|  Person|\n",
            "|AWK8z0pOIwln0LfXlSxH|\"Amazon Echo Show...|          B01J24C0TI|Electronics,Hardware|       TRUE|         0|     5|with this echo li...|    great abilities!|           jjay|  Person|\n",
            "|AVpgNzjwLJeJML43Kpxn|AmazonBasics AAA ...|B00QWO9P0O,B00LH3...|     Health & Beauty|       null|      null|     5|They're batteries...|          They work.|     ByKableGuy|     Bot|\n",
            "|AVpgNzjwLJeJML43Kpxn|AmazonBasics AAA ...|B00QWO9P0O,B00LH3...|     Health & Beauty|       null|      null|     5|Good deal for a l...|            good buy|  ByJohn Brewer|  Person|\n",
            "|AVpgNzjwLJeJML43Kpxn|AmazonBasics AAA ...|B00QWO9P0O,B00LH3...|     Health & Beauty|       null|      null|     5|           vary good|          Five Stars|   Bysaud hamad|  Person|\n",
            "|AVqkIhwDv8e3D1O-lebb|\"All-New Fire HD ...|          B01AHB9CN2|         Electronics|       TRUE|         0|     5|The best tablet f...|        Amazing deal|         JTShep|     Bot|\n",
            "|AVzvXXXN-jtxr-f3z35Q|Amazon Echo (1st ...|          B00Y3QOH5G|         Electronics|       null|      null|     5|We have several e...|Affordable person...|        hagen51|  Person|\n",
            "|AVqkIhxunnc1JgDc3kg_|Fire HD 8 Tablet ...|          B018T075DC|         Electronics|       TRUE|         0|     5|Easy to use and g...|     Love the kindle|        CherylS|     Bot|\n",
            "|AVwjfXp4QMlgsOJE8qmk|All-New Fire HD 8...|          B01J94SBEY|         Electronics|       TRUE|         0|     5|My daughter loves...|    Great for my 4yo|           ARob|  Person|\n",
            "|AVpjEN4jLJeJML43rpUe|\"Brand New Amazon...|          B018Y225IA|         Electronics|       TRUE|         0|     5|It was amazing ev...|             Love it|         Nathan|     Bot|\n",
            "|AVpgdkC8ilAPnD_xsvyi|Fire Tablet 7 Dis...|          B018Y22BI4|         Electronics|       TRUE|         0|     5|I upgraded to hav...|    Excellent tablet|         Sharky|     Bot|\n",
            "|AVqVGWQDv8e3D1O-ldFr|All-New Fire HD 8...|B018SZT3BK,B01AHB...|         Electronics|       TRUE|         0|     5|Bright screen, li...|        Great Tablet|    LuvShopping|     Bot|\n",
            "|AVpgNzjwLJeJML43Kpxn|AmazonBasics AAA ...|B00QWO9P0O,B00LH3...|     Health & Beauty|       null|      null|     5|these work as wel...|          Five Stars|        ByTracy| userBot|\n",
            "|AVpgNzjwLJeJML43Kpxn|AmazonBasics AAA ...|B00QWO9P0O,B00LH3...|     Health & Beauty|       null|      null|     5|             love it|          Five Stars|     ByJw39723c|     Bot|\n",
            "|AVqkIhkhv8e3D1O-lebZ|All-New Fire HD 8...|          B01AHBBG04|         Electronics|       TRUE|         0|     5|This my 2nd Kindl...|An excellant prod...|     Northsider|     Bot|\n",
            "|AVqVGWLKnnc1JgDc3jF1|Fire Kids Edition...|          B018Y23MNM|         Electronics|       TRUE|         0|     3|I like the ipad i...|           I love it|          Urban|     Bot|\n",
            "|AVzYlGkFvKc47QAVeZRI|All-New Fire HD 8...|          B01J94YIT6|         Electronics|       TRUE|         0|     4|If you own an Ale...|If you own an Ale...|     Packerman8|  Person|\n",
            "|AWFUWc8THh53nbDRF6YO|\"Amazon Echo Show...|          B010CEHQTG|Electronics,Hardware|       TRUE|         0|     5|The echo show is ...|     Echos are great|           Mleg|  Person|\n",
            "|AVph0EeEilAPnD_x9myq|Fire Kids Edition...|          B018Y22C2Y|         Electronics|       TRUE|         0|     5|My daughter loves...|          Kid Tablet|       22Tronic|     Bot|\n",
            "|AVpgNzjwLJeJML43Kpxn|AmazonBasics AAA ...|B00QWO9P0O,B00LH3...|     Health & Beauty|       null|      null|     5|I am 100 satisfie...|     100 satisfied..|          ByGPN|  Person|\n",
            "+--------------------+--------------------+--------------------+--------------------+-----------+----------+------+--------------------+--------------------+---------------+--------+\n",
            "only showing top 30 rows\n",
            "\n"
          ],
          "name": "stdout"
        }
      ]
    },
    {
      "cell_type": "code",
      "metadata": {
        "id": "80srfYxvbWZB",
        "colab_type": "code",
        "outputId": "dea5486d-387d-46c2-93bd-b5019efd984a",
        "colab": {
          "base_uri": "https://localhost:8080/",
          "height": 501
        }
      },
      "source": [
        "from pyspark.sql.functions import length\n",
        "# Create a length column to be used as a future feature \n",
        "data_df = df.withColumn('length', length(df['text']))\n",
        "data_df.show()"
      ],
      "execution_count": 83,
      "outputs": [
        {
          "output_type": "stream",
          "text": [
            "+--------------------+--------------------+--------------------+--------------------+-----------+----------+------+--------------------+--------------------+---------------+--------+------+\n",
            "|                  id|                name|               asins|   primaryCategories|doRecommend|numHelpful|rating|                text|               title|       username|reviewer|length|\n",
            "+--------------------+--------------------+--------------------+--------------------+-----------+----------+------+--------------------+--------------------+---------------+--------+------+\n",
            "|AVpgNzjwLJeJML43Kpxn|AmazonBasics AAA ...|B00QWO9P0O,B00LH3...|     Health & Beauty|       null|      null|     4|Seems to work jus...|                Good|     Bycherubs1|  Person|    85|\n",
            "|AVqVGZNvQMlgsOJE6eUY|\"All-New Kindle E...|          B00ZV9PXP2|         Electronics|      FALSE|         0|     3|This was advertis...|Paper white is th...|       Kindler1|  Person|   316|\n",
            "|AVqVGWLKnnc1JgDc3jF1|Fire Kids Edition...|          B018Y23MNM|         Electronics|       TRUE|         0|     5|They learned how ...|Granddaughters lo...|       Reneerid|     Bot|    91|\n",
            "|AVpfw2hvilAPnD_xh0rH|Fire Kids Edition...|          B018Y226XO|Toys & Games,Elec...|      FALSE|         0|     1|Aside from the fa...|       Utter garbage|           Pete| userBot|   691|\n",
            "|AVph0EeEilAPnD_x9myq|Fire Kids Edition...|          B018Y22C2Y|         Electronics|       TRUE|         0|     5|My Son absolutely...|         Fantastic!!|          Steve|     Bot|    81|\n",
            "|AVpfpK8KLJeJML43BCuD|Amazon Tap Smart ...|          B01BH83OOM|         Electronics|       TRUE|         0|     4|Great speaker. Lo...|       Great product|         Meanum|  Person|   142|\n",
            "|AVqkIhxunnc1JgDc3kg_|Fire HD 8 Tablet ...|          B018T075DC|         Electronics|       TRUE|         0|     5|Purchased this fo...|   Absolutely great!|         canman|  Person|   147|\n",
            "|AVpjEN4jLJeJML43rpUe|\"Brand New Amazon...|          B018Y225IA|         Electronics|       TRUE|         0|     5|Next generation o...|Keeps the grand k...|    SurfingJohn|     Bot|   102|\n",
            "|AVpe7xlELJeJML43ypLz|AmazonBasics AA P...|B00QWO9P0O,B01IB8...|     Health & Beauty|       null|      null|     4|Usually I buy bri...|     Now dairy-free!|  ByNate Werber|  Person|   157|\n",
            "|AVpgNzjwLJeJML43Kpxn|AmazonBasics AAA ...|B00QWO9P0O,B00LH3...|     Health & Beauty|       null|      null|     1|I see that these ...|     I Won't Reorder|  ByNightrunner|  Person|   401|\n",
            "|AVpgNzjwLJeJML43Kpxn|AmazonBasics AAA ...|B00QWO9P0O,B00LH3...|     Health & Beauty|       null|      null|     5|These batteries a...|Great value for t...|ByVictor Medina|  Person|   163|\n",
            "|AWK8z0pOIwln0LfXlSxH|\"Amazon Echo Show...|          B01J24C0TI|Electronics,Hardware|       TRUE|         0|     5|with this echo li...|    great abilities!|           jjay|  Person|    99|\n",
            "|AVpgNzjwLJeJML43Kpxn|AmazonBasics AAA ...|B00QWO9P0O,B00LH3...|     Health & Beauty|       null|      null|     5|They're batteries...|          They work.|     ByKableGuy|     Bot|    32|\n",
            "|AVpgNzjwLJeJML43Kpxn|AmazonBasics AAA ...|B00QWO9P0O,B00LH3...|     Health & Beauty|       null|      null|     5|Good deal for a l...|            good buy|  ByJohn Brewer|  Person|    60|\n",
            "|AVpgNzjwLJeJML43Kpxn|AmazonBasics AAA ...|B00QWO9P0O,B00LH3...|     Health & Beauty|       null|      null|     5|           vary good|          Five Stars|   Bysaud hamad|  Person|     9|\n",
            "|AVqkIhwDv8e3D1O-lebb|\"All-New Fire HD ...|          B01AHB9CN2|         Electronics|       TRUE|         0|     5|The best tablet f...|        Amazing deal|         JTShep|     Bot|    85|\n",
            "|AVzvXXXN-jtxr-f3z35Q|Amazon Echo (1st ...|          B00Y3QOH5G|         Electronics|       null|      null|     5|We have several e...|Affordable person...|        hagen51|  Person|   580|\n",
            "|AVqkIhxunnc1JgDc3kg_|Fire HD 8 Tablet ...|          B018T075DC|         Electronics|       TRUE|         0|     5|Easy to use and g...|     Love the kindle|        CherylS|     Bot|    58|\n",
            "|AVwjfXp4QMlgsOJE8qmk|All-New Fire HD 8...|          B01J94SBEY|         Electronics|       TRUE|         0|     5|My daughter loves...|    Great for my 4yo|           ARob|  Person|    94|\n",
            "|AVpjEN4jLJeJML43rpUe|\"Brand New Amazon...|          B018Y225IA|         Electronics|       TRUE|         0|     5|It was amazing ev...|             Love it|         Nathan|     Bot|    57|\n",
            "+--------------------+--------------------+--------------------+--------------------+-----------+----------+------+--------------------+--------------------+---------------+--------+------+\n",
            "only showing top 20 rows\n",
            "\n"
          ],
          "name": "stdout"
        }
      ]
    },
    {
      "cell_type": "code",
      "metadata": {
        "id": "tBHTNk30zfU_",
        "colab_type": "code",
        "colab": {}
      },
      "source": [
        " from pyspark.ml.feature import Tokenizer, StopWordsRemover, HashingTF, IDF, StringIndexer\n",
        "# Create all the features to the data set\n",
        "reviewer_to_num = StringIndexer(inputCol='reviewer',outputCol='label')\n",
        "tokenizer = Tokenizer(inputCol=\"text\", outputCol=\"token_text\")\n",
        "stopremove = StopWordsRemover(inputCol='token_text',outputCol='stop_tokens')\n",
        "hashingTF = HashingTF(inputCol=\"token_text\", outputCol='hash_token')\n",
        "idf = IDF(inputCol='hash_token', outputCol='idf_token')"
      ],
      "execution_count": 0,
      "outputs": []
    },
    {
      "cell_type": "code",
      "metadata": {
        "id": "Pow8HsLqzfbR",
        "colab_type": "code",
        "colab": {}
      },
      "source": [
        " from pyspark.ml.feature import VectorAssembler\n",
        "from pyspark.ml.linalg import Vector\n",
        "\n",
        "# Create feature vectors\n",
        "clean_up = VectorAssembler(inputCols=['idf_token', 'length'], outputCol='features')"
      ],
      "execution_count": 0,
      "outputs": []
    },
    {
      "cell_type": "code",
      "metadata": {
        "id": "JtdtwoPvzfhC",
        "colab_type": "code",
        "colab": {}
      },
      "source": [
        "# Create a and run a data processing Pipeline\n",
        "from pyspark.ml import Pipeline\n",
        "data_prep_pipeline = Pipeline(stages=[reviewer_to_num, tokenizer, stopremove, hashingTF, idf, clean_up])"
      ],
      "execution_count": 0,
      "outputs": []
    },
    {
      "cell_type": "code",
      "metadata": {
        "id": "tF5WZD-Azn6y",
        "colab_type": "code",
        "colab": {}
      },
      "source": [
        " # Fit and transform the pipeline\n",
        "cleaner = data_prep_pipeline.fit(data_df)\n",
        "cleaned = cleaner.transform(data_df)"
      ],
      "execution_count": 0,
      "outputs": []
    },
    {
      "cell_type": "code",
      "metadata": {
        "id": "GimhAFsPzn98",
        "colab_type": "code",
        "outputId": "e98d548b-33ec-45b9-a22a-ad634594e610",
        "colab": {
          "base_uri": "https://localhost:8080/",
          "height": 501
        }
      },
      "source": [
        "cleaned.select(['label', 'features']).show()"
      ],
      "execution_count": 88,
      "outputs": [
        {
          "output_type": "stream",
          "text": [
            "+-----+--------------------+\n",
            "|label|            features|\n",
            "+-----+--------------------+\n",
            "|  1.0|(262145,[16332,20...|\n",
            "|  1.0|(262145,[5795,163...|\n",
            "|  0.0|(262145,[16332,84...|\n",
            "|  2.0|(262145,[6258,706...|\n",
            "|  0.0|(262145,[35263,37...|\n",
            "|  1.0|(262145,[3924,963...|\n",
            "|  1.0|(262145,[12888,14...|\n",
            "|  0.0|(262145,[4869,963...|\n",
            "|  1.0|(262145,[9639,244...|\n",
            "|  1.0|(262145,[2306,963...|\n",
            "|  1.0|(262145,[7367,249...|\n",
            "|  1.0|(262145,[18691,37...|\n",
            "|  0.0|(262145,[68056,91...|\n",
            "|  1.0|(262145,[9639,163...|\n",
            "|  1.0|(262145,[83936,11...|\n",
            "|  0.0|(262145,[9639,163...|\n",
            "|  1.0|(262145,[14,254,4...|\n",
            "|  0.0|(262145,[9639,473...|\n",
            "|  1.0|(262145,[7062,963...|\n",
            "|  0.0|(262145,[16426,25...|\n",
            "+-----+--------------------+\n",
            "only showing top 20 rows\n",
            "\n"
          ],
          "name": "stdout"
        }
      ]
    },
    {
      "cell_type": "code",
      "metadata": {
        "id": "ajlXxxvQXPA2",
        "colab_type": "code",
        "colab": {}
      },
      "source": [
        "from pyspark.ml.classification import NaiveBayes\n",
        "# Break data down into a training set and a testing set\n",
        "training, testing = cleaned.randomSplit([0.7, 0.3])\n",
        "\n",
        "# Create a Naive Bayes model and fit training data\n",
        "nb = NaiveBayes()\n",
        "predictor = nb.fit(training)"
      ],
      "execution_count": 0,
      "outputs": []
    },
    {
      "cell_type": "code",
      "metadata": {
        "id": "sLTgygygzoEY",
        "colab_type": "code",
        "outputId": "6a01245e-99cd-4c60-8995-e9cb09f7dc4a",
        "colab": {
          "base_uri": "https://localhost:8080/",
          "height": 707
        }
      },
      "source": [
        "test_results = predictor.transform(testing)\n",
        "test_results.show(30)"
      ],
      "execution_count": 90,
      "outputs": [
        {
          "output_type": "stream",
          "text": [
            "+--------------------+--------------------+--------------------+-----------------+-----------+----------+------+--------------------+--------------------+------------------+---------+------+-----+--------------------+--------------------+--------------------+--------------------+--------------------+--------------------+--------------------+----------+\n",
            "|                  id|                name|               asins|primaryCategories|doRecommend|numHelpful|rating|                text|               title|          username| reviewer|length|label|          token_text|         stop_tokens|          hash_token|           idf_token|            features|       rawPrediction|         probability|prediction|\n",
            "+--------------------+--------------------+--------------------+-----------------+-----------+----------+------+--------------------+--------------------+------------------+---------+------+-----+--------------------+--------------------+--------------------+--------------------+--------------------+--------------------+--------------------+----------+\n",
            "|AVpe6nyKLJeJML43yOe2|AmazonBasics 11.6...|B01B66989K,B00CD8...|      Electronics|       null|      null|     5|Recently, I spent...|Perfect. 342 peop...|          Don Juan|  userBot|  1489|  2.0|[recently,, i, sp...|[recently,, spent...|(262144,[343,2306...|(262144,[343,2306...|(262145,[343,2306...|[-14732.612717735...|[1.0,1.4985504464...|       0.0|\n",
            "|AVpe7xlELJeJML43ypLz|AmazonBasics AA P...|B00QWO9P0O,B01IB8...|  Health & Beauty|       null|      null|     1|Burnt up a copper...|They WILL burn up...|ByMy Real Pen Name|   Person|   174|  1.0|[burnt, up, a, co...|[burnt, copper, s...|(262144,[16332,24...|(262144,[16332,24...|(262145,[16332,24...|[-1529.7131985597...|[0.10520090263796...|       1.0|\n",
            "|AVpe7xlELJeJML43ypLz|AmazonBasics AA P...|B00QWO9P0O,B01IB8...|  Health & Beauty|       null|      null|     1|I bought these se...|        Short life!!|        Bypbickert|  userBot|   389|  2.0|[i, bought, these...|[bought, several,...|(262144,[6061,963...|(262144,[6061,963...|(262145,[6061,963...|[-3264.7515608375...|[0.99999999999994...|       0.0|\n",
            "|AVpe7xlELJeJML43ypLz|AmazonBasics AA P...|B00QWO9P0O,B01IB8...|  Health & Beauty|       null|      null|     1|I find these batt...|... these batteri...|   ByRay Tampa Bay|   Person|   181|  1.0|[i, find, these, ...|[find, batteries,...|(262144,[1846,158...|(262144,[1846,158...|(262145,[1846,158...|[-1468.4798210857...|[0.99794481166855...|       0.0|\n",
            "|AVpe7xlELJeJML43ypLz|AmazonBasics AA P...|B00QWO9P0O,B01IB8...|  Health & Beauty|       null|      null|     1|I had high hopes ...|I must have recei...|         ByCari M.|  userBot|   309|  2.0|[i, had, high, ho...|[high, hopes, sur...|(262144,[2992,123...|(262144,[2992,123...|(262145,[2992,123...|[-2634.3603167570...|[0.99999999999463...|       0.0|\n",
            "|AVpe7xlELJeJML43ypLz|AmazonBasics AA P...|B00QWO9P0O,B01IB8...|  Health & Beauty|       null|      null|     1|May have been a f...|May have been a f...|            ByCara|      Bot|   179|  0.0|[may, have, been,...|[may, fluke,, las...|(262144,[590,1566...|(262144,[590,1566...|(262145,[590,1566...|[-1490.3198551658...|[4.09982477616247...|       1.0|\n",
            "|AVpe7xlELJeJML43ypLz|AmazonBasics AA P...|B00QWO9P0O,B01IB8...|  Health & Beauty|       null|      null|     1|These batteries a...|            One Star|            ByMatt|      Bot|    59|  0.0|[these, batteries...|[batteries, absol...|(262144,[68056,88...|(262144,[68056,88...|(262145,[68056,88...|[-436.84323867354...|[0.99999990226632...|       0.0|\n",
            "|AVpe7xlELJeJML43ypLz|AmazonBasics AA P...|B00QWO9P0O,B01IB8...|  Health & Beauty|       null|      null|     2|Bad shelf life. N...|           Two Stars|          ByViper1|      Bot|    65|  0.0|[bad, shelf, life...|[bad, shelf, life...|(262144,[16332,19...|(262144,[16332,19...|(262145,[16332,19...|[-666.52231047511...|[0.99999999999990...|       0.0|\n",
            "|AVpe7xlELJeJML43ypLz|AmazonBasics AA P...|B00QWO9P0O,B01IB8...|  Health & Beauty|       null|      null|     2|  Doesn't last long.|           Two Stars| ByAmazon Customer|  userBot|    18|  2.0|[doesn't, last, l...|       [last, long.]|(262144,[5381,151...|(262144,[5381,151...|(262145,[5381,151...|[-140.08153587100...|[0.48290464793638...|       1.0|\n",
            "|AVpe7xlELJeJML43ypLz|AmazonBasics AA P...|B00QWO9P0O,B01IB8...|  Health & Beauty|       null|      null|     2|They simply do no...|Not worth the money.|        ByQuasiBob|   Person|    55|  1.0|[they, simply, do...|[simply, last, lo...|(262144,[5381,374...|(262144,[5381,374...|(262145,[5381,374...|[-409.26053154377...|[0.01066759370921...|       1.0|\n",
            "|AVpe7xlELJeJML43ypLz|AmazonBasics AA P...|B00QWO9P0O,B01IB8...|  Health & Beauty|       null|      null|     2|Very disappointed...|Very disappointed...|         ByKAHchoo|  userBot|   547|  2.0|[very, disappoint...|[disappointed, ba...|(262144,[9639,111...|(262144,[9639,111...|(262145,[9639,111...|[-4414.3915968581...|[6.02849904269904...|       1.0|\n",
            "|AVpe7xlELJeJML43ypLz|AmazonBasics AA P...|B00QWO9P0O,B01IB8...|  Health & Beauty|       null|      null|     3|Batteries seem li...|           Good deal|             ByWes|   Person|    56|  1.0|[batteries, seem,...|[batteries, seem,...|(262144,[5381,343...|(262144,[5381,343...|(262145,[5381,343...|[-302.77046380826...|[0.99749696091859...|       0.0|\n",
            "|AVpe7xlELJeJML43ypLz|AmazonBasics AA P...|B00QWO9P0O,B01IB8...|  Health & Beauty|       null|      null|     3|I like how i got ...|         Three Stars|    Bylatoya allen|      Bot|    71|  0.0|[i, like, how, i,...|[like, got, many,...|(262144,[18765,24...|(262144,[18765,24...|(262145,[18765,24...|[-666.57645682807...|[0.99949982999058...|       0.0|\n",
            "|AVpe7xlELJeJML43ypLz|AmazonBasics AA P...|B00QWO9P0O,B01IB8...|  Health & Beauty|       null|      null|     3|    OK for AAA needs|         Three Stars|            Byanon|      Bot|    16|  0.0|[ok, for, aaa, ne...|    [ok, aaa, needs]|(262144,[16332,12...|(262144,[16332,12...|(262145,[16332,12...|[-164.59391194699...|[0.99888613823765...|       0.0|\n",
            "|AVpe7xlELJeJML43ypLz|AmazonBasics AA P...|B00QWO9P0O,B01IB8...|  Health & Beauty|       null|      null|     3|maybe it's just m...|         Three Stars|      BySam Webber|      Bot|    59|  0.0|[maybe, it's, jus...|[maybe, me..., se...|(262144,[5381,869...|(262144,[5381,869...|(262145,[5381,869...|[-424.59009049142...|[0.99997991775329...|       0.0|\n",
            "|AVpe7xlELJeJML43ypLz|AmazonBasics AA P...|B00QWO9P0O,B01IB8...|  Health & Beauty|       null|      null|     3|not as good as th...|         Three Stars|           Bydiana|  userBot|    63|  2.0|[not, as, good, a...|[good, higher, qu...|(262144,[50940,68...|(262144,[50940,68...|(262145,[50940,68...|[-386.64349403372...|[4.24594363720502...|       1.0|\n",
            "|AVpe7xlELJeJML43ypLz|AmazonBasics AA P...|B00QWO9P0O,B01IB8...|  Health & Beauty|       null|      null|     3|you get what you ...|         Three Stars|         ByJames L|   Person|    46|  1.0|[you, get, what, ...|[get, pay, for......|(262144,[33921,81...|(262144,[33921,81...|(262145,[33921,81...|[-343.55115652181...|[0.99999732191885...|       0.0|\n",
            "|AVpe7xlELJeJML43ypLz|AmazonBasics AA P...|B00QWO9P0O,B01IB8...|  Health & Beauty|       null|      null|     4|All are working a...| Very good purchase.|         ByBill S.|      Bot|    51|  0.0|[all, are, workin...|[working, should....|(262144,[13013,50...|(262144,[13013,50...|(262145,[13013,50...|[-312.05495397512...|[0.99999987094554...|       0.0|\n",
            "|AVpe7xlELJeJML43ypLz|AmazonBasics AA P...|B00QWO9P0O,B01IB8...|  Health & Beauty|       null|      null|     4|           Batteries|           Batteries|           ByOskar|reviewBot|     9|  3.0|         [batteries]|         [batteries]|(262144,[68056],[...|(262144,[68056],[...|(262145,[68056,26...|[-29.836762884061...|[0.53432704907252...|       0.0|\n",
            "|AVpe7xlELJeJML43ypLz|AmazonBasics AA P...|B00QWO9P0O,B01IB8...|  Health & Beauty|       null|      null|     4|Cheap Quality Bat...|               Works|           ByJacob|      Bot|    23|  0.0|[cheap, quality, ...|[cheap, quality, ...|(262144,[12946,68...|(262144,[12946,68...|(262145,[12946,68...|[-117.11870907906...|[0.99231057574514...|       0.0|\n",
            "|AVpe7xlELJeJML43ypLz|AmazonBasics AA P...|B00QWO9P0O,B01IB8...|  Health & Beauty|       null|      null|     4|          Great buy!|          Four Stars|        BySarah J.|      Bot|    10|  0.0|       [great, buy!]|       [great, buy!]|(262144,[134739,1...|(262144,[134739,1...|(262145,[134739,1...|[-102.77778423099...|[1.75977025908456...|       1.0|\n",
            "|AVpe7xlELJeJML43ypLz|AmazonBasics AA P...|B00QWO9P0O,B01IB8...|  Health & Beauty|       null|      null|     4|Great deal, no pr...|           Worth it.|  ByAmanda Carlson|   Person|    43|  1.0|[great, deal,, no...|[great, deal,, pr...|(262144,[13013,39...|(262144,[13013,39...|(262145,[13013,39...|[-301.33859156163...|[0.99961076483818...|       0.0|\n",
            "|AVpe7xlELJeJML43ypLz|AmazonBasics AA P...|B00QWO9P0O,B01IB8...|  Health & Beauty|       null|      null|     4|I'm only going to...|Very happy with t...| ByRorylynn Lemond|   Person|   377|  1.0|[i'm, only, going...|[going, give, 4, ...|(262144,[4081,538...|(262144,[4081,538...|(262145,[4081,538...|[-2890.1090035771...|[1.0,6.1471220604...|       0.0|\n",
            "|AVpe7xlELJeJML43ypLz|AmazonBasics AA P...|B00QWO9P0O,B01IB8...|  Health & Beauty|       null|      null|     4|Not sure what I c...|          Four Stars|        ByJ. Dicom|      Bot|    39|  0.0|[not, sure, what,...|[sure, say, batte...|(262144,[24417,36...|(262144,[24417,36...|(262145,[24417,36...|[-245.65456043304...|[0.98687913147134...|       0.0|\n",
            "|AVpe7xlELJeJML43ypLz|AmazonBasics AA P...|B00QWO9P0O,B01IB8...|  Health & Beauty|       null|      null|     4|So far so good as...|   Lots of batteries|          ByVickie|      Bot|   148|  0.0|[so, far, so, goo...|[far, good, far, ...|(262144,[4270,961...|(262144,[4270,961...|(262145,[4270,961...|[-1048.5043115691...|[1.0,1.9546848565...|       0.0|\n",
            "|AVpe7xlELJeJML43ypLz|AmazonBasics AA P...|B00QWO9P0O,B01IB8...|  Health & Beauty|       null|      null|     4|These are AA batt...|These are AA Batt...| ByAmazon Customer|  userBot|   157|  2.0|[these, are, aa, ...|[aa, batteries, w...|(262144,[11375,23...|(262144,[11375,23...|(262145,[11375,23...|[-1198.5406387727...|[0.02505964110993...|       1.0|\n",
            "|AVpe7xlELJeJML43ypLz|AmazonBasics AA P...|B00QWO9P0O,B01IB8...|  Health & Beauty|       null|      null|     4|    They work great!|     Sweet batteries|         ByMikaela|reviewBot|    16|  3.0|[they, work, great!]|      [work, great!]|(262144,[34343,15...|(262144,[34343,15...|(262145,[34343,15...|[-106.10108910746...|[0.51890970807865...|       0.0|\n",
            "|AVpe7xlELJeJML43ypLz|AmazonBasics AA P...|B00QWO9P0O,B01IB8...|  Health & Beauty|       null|      null|     4|This product was ...|I was pleased wit...|          ByMomof2|   Person|   108|  1.0|[this, product, w...|[product, exactly...|(262144,[8769,244...|(262144,[8769,244...|(262145,[8769,244...|[-594.40108138059...|[0.99999999499769...|       0.0|\n",
            "|AVpe7xlELJeJML43ypLz|AmazonBasics AA P...|B00QWO9P0O,B01IB8...|  Health & Beauty|       null|      null|     4|                Work|          Four Stars|           ByJames|      Bot|     4|  0.0|              [work]|              [work]|(262144,[34343],[...|(262144,[34343],[...|(262145,[34343,26...|[-29.378911565110...|[0.52623059834430...|       0.0|\n",
            "|AVpe7xlELJeJML43ypLz|AmazonBasics AA P...|B00QWO9P0O,B01IB8...|  Health & Beauty|       null|      null|     4|Work well for the...|Batteries work we...|             ByEm7|   Person|   118|  1.0|[work, well, for,...|[work, well, part...|(262144,[3924,538...|(262144,[3924,538...|(262145,[3924,538...|[-962.61420217028...|[2.12248351588398...|       1.0|\n",
            "+--------------------+--------------------+--------------------+-----------------+-----------+----------+------+--------------------+--------------------+------------------+---------+------+-----+--------------------+--------------------+--------------------+--------------------+--------------------+--------------------+--------------------+----------+\n",
            "only showing top 30 rows\n",
            "\n"
          ],
          "name": "stdout"
        }
      ]
    },
    {
      "cell_type": "code",
      "metadata": {
        "id": "3JebgQ082sUp",
        "colab_type": "code",
        "outputId": "c593a4c1-5f84-406c-96d2-de17f344562f",
        "colab": {
          "base_uri": "https://localhost:8080/",
          "height": 36
        }
      },
      "source": [
        " # Use the Class Evaluator for a cleaner description\n",
        "from pyspark.ml.evaluation import MulticlassClassificationEvaluator\n",
        "\n",
        "acc_eval = MulticlassClassificationEvaluator()\n",
        "acc = acc_eval.evaluate(test_results)\n",
        "print(\"Accuracy of model at predicting reviews was: %f\" % acc)"
      ],
      "execution_count": 91,
      "outputs": [
        {
          "output_type": "stream",
          "text": [
            "Accuracy of model at predicting reviews was: 0.474998\n"
          ],
          "name": "stdout"
        }
      ]
    },
    {
      "cell_type": "code",
      "metadata": {
        "id": "sb7Jwex0P4ld",
        "colab_type": "code",
        "colab": {}
      },
      "source": [
        "new_test=test_results.drop('id','asins','doRecommend','numHelpful','username','length','label','token_text','hash_token','idf_token','features','rawPrediction','probability','prediction')"
      ],
      "execution_count": 0,
      "outputs": []
    },
    {
      "cell_type": "code",
      "metadata": {
        "id": "anzoZ4yuSPRq",
        "colab_type": "code",
        "colab": {
          "base_uri": "https://localhost:8080/",
          "height": 501
        },
        "outputId": "6f74fc64-8cd5-4cef-a43f-b8f9263915d8"
      },
      "source": [
        "new_test.show(20)"
      ],
      "execution_count": 96,
      "outputs": [
        {
          "output_type": "stream",
          "text": [
            "+--------------------+-----------------+------+--------------------+--------------------+---------+--------------------+\n",
            "|                name|primaryCategories|rating|                text|               title| reviewer|         stop_tokens|\n",
            "+--------------------+-----------------+------+--------------------+--------------------+---------+--------------------+\n",
            "|AmazonBasics 11.6...|      Electronics|     5|Recently, I spent...|Perfect. 342 peop...|  userBot|[recently,, spent...|\n",
            "|AmazonBasics AA P...|  Health & Beauty|     1|Burnt up a copper...|They WILL burn up...|   Person|[burnt, copper, s...|\n",
            "|AmazonBasics AA P...|  Health & Beauty|     1|I bought these se...|        Short life!!|  userBot|[bought, several,...|\n",
            "|AmazonBasics AA P...|  Health & Beauty|     1|I find these batt...|... these batteri...|   Person|[find, batteries,...|\n",
            "|AmazonBasics AA P...|  Health & Beauty|     1|I had high hopes ...|I must have recei...|  userBot|[high, hopes, sur...|\n",
            "|AmazonBasics AA P...|  Health & Beauty|     1|May have been a f...|May have been a f...|      Bot|[may, fluke,, las...|\n",
            "|AmazonBasics AA P...|  Health & Beauty|     1|These batteries a...|            One Star|      Bot|[batteries, absol...|\n",
            "|AmazonBasics AA P...|  Health & Beauty|     2|Bad shelf life. N...|           Two Stars|      Bot|[bad, shelf, life...|\n",
            "|AmazonBasics AA P...|  Health & Beauty|     2|  Doesn't last long.|           Two Stars|  userBot|       [last, long.]|\n",
            "|AmazonBasics AA P...|  Health & Beauty|     2|They simply do no...|Not worth the money.|   Person|[simply, last, lo...|\n",
            "|AmazonBasics AA P...|  Health & Beauty|     2|Very disappointed...|Very disappointed...|  userBot|[disappointed, ba...|\n",
            "|AmazonBasics AA P...|  Health & Beauty|     3|Batteries seem li...|           Good deal|   Person|[batteries, seem,...|\n",
            "|AmazonBasics AA P...|  Health & Beauty|     3|I like how i got ...|         Three Stars|      Bot|[like, got, many,...|\n",
            "|AmazonBasics AA P...|  Health & Beauty|     3|    OK for AAA needs|         Three Stars|      Bot|    [ok, aaa, needs]|\n",
            "|AmazonBasics AA P...|  Health & Beauty|     3|maybe it's just m...|         Three Stars|      Bot|[maybe, me..., se...|\n",
            "|AmazonBasics AA P...|  Health & Beauty|     3|not as good as th...|         Three Stars|  userBot|[good, higher, qu...|\n",
            "|AmazonBasics AA P...|  Health & Beauty|     3|you get what you ...|         Three Stars|   Person|[get, pay, for......|\n",
            "|AmazonBasics AA P...|  Health & Beauty|     4|All are working a...| Very good purchase.|      Bot|[working, should....|\n",
            "|AmazonBasics AA P...|  Health & Beauty|     4|           Batteries|           Batteries|reviewBot|         [batteries]|\n",
            "|AmazonBasics AA P...|  Health & Beauty|     4|Cheap Quality Bat...|               Works|      Bot|[cheap, quality, ...|\n",
            "+--------------------+-----------------+------+--------------------+--------------------+---------+--------------------+\n",
            "only showing top 20 rows\n",
            "\n"
          ],
          "name": "stdout"
        }
      ]
    },
    {
      "cell_type": "code",
      "metadata": {
        "id": "SLFScEP7SkWo",
        "colab_type": "code",
        "colab": {}
      },
      "source": [
        "pandas_df = new_test.toPandas()"
      ],
      "execution_count": 0,
      "outputs": []
    },
    {
      "cell_type": "code",
      "metadata": {
        "id": "sD4LyO17SsFg",
        "colab_type": "code",
        "colab": {}
      },
      "source": [
        "pandas_df.to_json(\"Pandas_test.JSON\")"
      ],
      "execution_count": 0,
      "outputs": []
    }
  ]
}