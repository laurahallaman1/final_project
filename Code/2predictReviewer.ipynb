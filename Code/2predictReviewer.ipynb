{
  "nbformat": 4,
  "nbformat_minor": 0,
  "metadata": {
    "colab": {
      "name": "Copy of Copy of Untitled4.ipynb",
      "provenance": [],
      "collapsed_sections": [],
      "authorship_tag": "ABX9TyMFXc1nR6tNg/+7IdCPtLBS",
      "include_colab_link": true
    },
    "kernelspec": {
      "name": "python3",
      "display_name": "Python 3"
    }
  },
  "cells": [
    {
      "cell_type": "markdown",
      "metadata": {
        "id": "view-in-github",
        "colab_type": "text"
      },
      "source": [
        "<a href=\"https://colab.research.google.com/github/laurahallaman1/final_project/blob/master/Code/2predictReviewer.ipynb\" target=\"_parent\"><img src=\"https://colab.research.google.com/assets/colab-badge.svg\" alt=\"Open In Colab\"/></a>"
      ]
    },
    {
      "cell_type": "code",
      "metadata": {
        "id": "cEZWekfsbTZ2",
        "colab_type": "code",
        "colab": {}
      },
      "source": [
        "# Install Java, Spark, and Findspark\n",
        "!apt-get install openjdk-8-jdk-headless -qq > /dev/null\n",
        "!wget -q http://www-us.apache.org/dist/spark/spark-2.4.5/spark-2.4.5-bin-hadoop2.7.tgz\n",
        "!tar xf spark-2.4.5-bin-hadoop2.7.tgz\n",
        "!pip install -q findspark\n",
        "\n",
        "# Set Environment Variables\n",
        "import os\n",
        "os.environ[\"JAVA_HOME\"] = \"/usr/lib/jvm/java-8-openjdk-amd64\"\n",
        "os.environ[\"SPARK_HOME\"] = \"/content/spark-2.4.5-bin-hadoop2.7\"\n",
        "\n",
        "# Start a SparkSession\n",
        "import findspark\n",
        "findspark.init()"
      ],
      "execution_count": 0,
      "outputs": []
    },
    {
      "cell_type": "code",
      "metadata": {
        "id": "Fsldk6o9bWVI",
        "colab_type": "code",
        "colab": {}
      },
      "source": [
        " # Start Spark session\n",
        "from pyspark.sql import SparkSession\n",
        "spark = SparkSession.builder.appName(\"NaiveBayes\").getOrCreate()"
      ],
      "execution_count": 0,
      "outputs": []
    },
    {
      "cell_type": "code",
      "metadata": {
        "id": "LH_q80iMbWai",
        "colab_type": "code",
        "outputId": "7bbca692-7680-45c8-97b1-9f361c19214c",
        "colab": {
          "base_uri": "https://localhost:8080/",
          "height": 687
        }
      },
      "source": [
        "\n",
        "from pyspark import SparkFiles\n",
        "url =\"https://raw.githubusercontent.com/laurahallaman1/final_project/master/Book3.csv\"\n",
        "spark.sparkContext.addFile(url)\n",
        "df = spark.read.csv(SparkFiles.get(\"Book3.csv\"), sep=\",\", header=True)\n",
        "\n",
        "# Show DataFrame\n",
        "df.show(30)"
      ],
      "execution_count": 3,
      "outputs": [
        {
          "output_type": "stream",
          "text": [
            "+--------------------+--------------------+--------------------+--------------------+-----------+----------+------+--------------------+--------------------+---------------+--------+\n",
            "|                  id|                name|               asins|   primaryCategories|doRecommend|numHelpful|rating|                text|               title|       username|reviewer|\n",
            "+--------------------+--------------------+--------------------+--------------------+-----------+----------+------+--------------------+--------------------+---------------+--------+\n",
            "|AVpgNzjwLJeJML43Kpxn|AmazonBasics AAA ...|B00QWO9P0O,B00LH3...|     Health & Beauty|       null|      null|     4|Seems to work jus...|                Good|     Bycherubs1|  Person|\n",
            "|AVqVGZNvQMlgsOJE6eUY|\"All-New Kindle E...|          B00ZV9PXP2|         Electronics|      FALSE|         0|     3|This was advertis...|Paper white is th...|       Kindler1|  Person|\n",
            "|AVqVGWLKnnc1JgDc3jF1|Fire Kids Edition...|          B018Y23MNM|         Electronics|       TRUE|         0|     5|They learned how ...|Granddaughters lo...|       Reneerid|     Bot|\n",
            "|AVpfw2hvilAPnD_xh0rH|Fire Kids Edition...|          B018Y226XO|Toys & Games,Elec...|      FALSE|         0|     1|Aside from the fa...|       Utter garbage|           Pete| userBot|\n",
            "|AVph0EeEilAPnD_x9myq|Fire Kids Edition...|          B018Y22C2Y|         Electronics|       TRUE|         0|     5|My Son absolutely...|         Fantastic!!|          Steve|     Bot|\n",
            "|AVpfpK8KLJeJML43BCuD|Amazon Tap Smart ...|          B01BH83OOM|         Electronics|       TRUE|         0|     4|Great speaker. Lo...|       Great product|         Meanum|  Person|\n",
            "|AVqkIhxunnc1JgDc3kg_|Fire HD 8 Tablet ...|          B018T075DC|         Electronics|       TRUE|         0|     5|Purchased this fo...|   Absolutely great!|         canman|  Person|\n",
            "|AVpjEN4jLJeJML43rpUe|\"Brand New Amazon...|          B018Y225IA|         Electronics|       TRUE|         0|     5|Next generation o...|Keeps the grand k...|    SurfingJohn|     Bot|\n",
            "|AVpe7xlELJeJML43ypLz|AmazonBasics AA P...|B00QWO9P0O,B01IB8...|     Health & Beauty|       null|      null|     4|Usually I buy bri...|     Now dairy-free!|  ByNate Werber|  Person|\n",
            "|AVpgNzjwLJeJML43Kpxn|AmazonBasics AAA ...|B00QWO9P0O,B00LH3...|     Health & Beauty|       null|      null|     1|I see that these ...|     I Won't Reorder|  ByNightrunner|  Person|\n",
            "|AVpgNzjwLJeJML43Kpxn|AmazonBasics AAA ...|B00QWO9P0O,B00LH3...|     Health & Beauty|       null|      null|     5|These batteries a...|Great value for t...|ByVictor Medina|  Person|\n",
            "|AWK8z0pOIwln0LfXlSxH|\"Amazon Echo Show...|          B01J24C0TI|Electronics,Hardware|       TRUE|         0|     5|with this echo li...|    great abilities!|           jjay|  Person|\n",
            "|AVpgNzjwLJeJML43Kpxn|AmazonBasics AAA ...|B00QWO9P0O,B00LH3...|     Health & Beauty|       null|      null|     5|They're batteries...|          They work.|     ByKableGuy|     Bot|\n",
            "|AVpgNzjwLJeJML43Kpxn|AmazonBasics AAA ...|B00QWO9P0O,B00LH3...|     Health & Beauty|       null|      null|     5|Good deal for a l...|            good buy|  ByJohn Brewer|  Person|\n",
            "|AVpgNzjwLJeJML43Kpxn|AmazonBasics AAA ...|B00QWO9P0O,B00LH3...|     Health & Beauty|       null|      null|     5|           vary good|          Five Stars|   Bysaud hamad|  Person|\n",
            "|AVqkIhwDv8e3D1O-lebb|\"All-New Fire HD ...|          B01AHB9CN2|         Electronics|       TRUE|         0|     5|The best tablet f...|        Amazing deal|         JTShep|     Bot|\n",
            "|AVzvXXXN-jtxr-f3z35Q|Amazon Echo (1st ...|          B00Y3QOH5G|         Electronics|       null|      null|     5|We have several e...|Affordable person...|        hagen51|  Person|\n",
            "|AVqkIhxunnc1JgDc3kg_|Fire HD 8 Tablet ...|          B018T075DC|         Electronics|       TRUE|         0|     5|Easy to use and g...|     Love the kindle|        CherylS|     Bot|\n",
            "|AVwjfXp4QMlgsOJE8qmk|All-New Fire HD 8...|          B01J94SBEY|         Electronics|       TRUE|         0|     5|My daughter loves...|    Great for my 4yo|           ARob|  Person|\n",
            "|AVpjEN4jLJeJML43rpUe|\"Brand New Amazon...|          B018Y225IA|         Electronics|       TRUE|         0|     5|It was amazing ev...|             Love it|         Nathan|     Bot|\n",
            "|AVpgdkC8ilAPnD_xsvyi|Fire Tablet 7 Dis...|          B018Y22BI4|         Electronics|       TRUE|         0|     5|I upgraded to hav...|    Excellent tablet|         Sharky|     Bot|\n",
            "|AVqVGWQDv8e3D1O-ldFr|All-New Fire HD 8...|B018SZT3BK,B01AHB...|         Electronics|       TRUE|         0|     5|Bright screen, li...|        Great Tablet|    LuvShopping|     Bot|\n",
            "|AVpgNzjwLJeJML43Kpxn|AmazonBasics AAA ...|B00QWO9P0O,B00LH3...|     Health & Beauty|       null|      null|     5|these work as wel...|          Five Stars|        ByTracy| userBot|\n",
            "|AVpgNzjwLJeJML43Kpxn|AmazonBasics AAA ...|B00QWO9P0O,B00LH3...|     Health & Beauty|       null|      null|     5|             love it|          Five Stars|     ByJw39723c|     Bot|\n",
            "|AVqkIhkhv8e3D1O-lebZ|All-New Fire HD 8...|          B01AHBBG04|         Electronics|       TRUE|         0|     5|This my 2nd Kindl...|An excellant prod...|     Northsider|     Bot|\n",
            "|AVqVGWLKnnc1JgDc3jF1|Fire Kids Edition...|          B018Y23MNM|         Electronics|       TRUE|         0|     3|I like the ipad i...|           I love it|          Urban|     Bot|\n",
            "|AVzYlGkFvKc47QAVeZRI|All-New Fire HD 8...|          B01J94YIT6|         Electronics|       TRUE|         0|     4|If you own an Ale...|If you own an Ale...|     Packerman8|  Person|\n",
            "|AWFUWc8THh53nbDRF6YO|\"Amazon Echo Show...|          B010CEHQTG|Electronics,Hardware|       TRUE|         0|     5|The echo show is ...|     Echos are great|           Mleg|  Person|\n",
            "|AVph0EeEilAPnD_x9myq|Fire Kids Edition...|          B018Y22C2Y|         Electronics|       TRUE|         0|     5|My daughter loves...|          Kid Tablet|       22Tronic|     Bot|\n",
            "|AVpgNzjwLJeJML43Kpxn|AmazonBasics AAA ...|B00QWO9P0O,B00LH3...|     Health & Beauty|       null|      null|     5|I am 100 satisfie...|     100 satisfied..|          ByGPN|  Person|\n",
            "+--------------------+--------------------+--------------------+--------------------+-----------+----------+------+--------------------+--------------------+---------------+--------+\n",
            "only showing top 30 rows\n",
            "\n"
          ],
          "name": "stdout"
        }
      ]
    },
    {
      "cell_type": "code",
      "metadata": {
        "id": "80srfYxvbWZB",
        "colab_type": "code",
        "outputId": "bdee6db4-6572-43c3-90f2-f15cb6f2aaaa",
        "colab": {
          "base_uri": "https://localhost:8080/",
          "height": 501
        }
      },
      "source": [
        "from pyspark.sql.functions import length\n",
        "# Create a length column to be used as a future feature \n",
        "data_df = df.withColumn('length', length(df['text']))\n",
        "data_df.show()"
      ],
      "execution_count": 4,
      "outputs": [
        {
          "output_type": "stream",
          "text": [
            "+--------------------+--------------------+--------------------+--------------------+-----------+----------+------+--------------------+--------------------+---------------+--------+------+\n",
            "|                  id|                name|               asins|   primaryCategories|doRecommend|numHelpful|rating|                text|               title|       username|reviewer|length|\n",
            "+--------------------+--------------------+--------------------+--------------------+-----------+----------+------+--------------------+--------------------+---------------+--------+------+\n",
            "|AVpgNzjwLJeJML43Kpxn|AmazonBasics AAA ...|B00QWO9P0O,B00LH3...|     Health & Beauty|       null|      null|     4|Seems to work jus...|                Good|     Bycherubs1|  Person|    85|\n",
            "|AVqVGZNvQMlgsOJE6eUY|\"All-New Kindle E...|          B00ZV9PXP2|         Electronics|      FALSE|         0|     3|This was advertis...|Paper white is th...|       Kindler1|  Person|   316|\n",
            "|AVqVGWLKnnc1JgDc3jF1|Fire Kids Edition...|          B018Y23MNM|         Electronics|       TRUE|         0|     5|They learned how ...|Granddaughters lo...|       Reneerid|     Bot|    91|\n",
            "|AVpfw2hvilAPnD_xh0rH|Fire Kids Edition...|          B018Y226XO|Toys & Games,Elec...|      FALSE|         0|     1|Aside from the fa...|       Utter garbage|           Pete| userBot|   691|\n",
            "|AVph0EeEilAPnD_x9myq|Fire Kids Edition...|          B018Y22C2Y|         Electronics|       TRUE|         0|     5|My Son absolutely...|         Fantastic!!|          Steve|     Bot|    81|\n",
            "|AVpfpK8KLJeJML43BCuD|Amazon Tap Smart ...|          B01BH83OOM|         Electronics|       TRUE|         0|     4|Great speaker. Lo...|       Great product|         Meanum|  Person|   142|\n",
            "|AVqkIhxunnc1JgDc3kg_|Fire HD 8 Tablet ...|          B018T075DC|         Electronics|       TRUE|         0|     5|Purchased this fo...|   Absolutely great!|         canman|  Person|   147|\n",
            "|AVpjEN4jLJeJML43rpUe|\"Brand New Amazon...|          B018Y225IA|         Electronics|       TRUE|         0|     5|Next generation o...|Keeps the grand k...|    SurfingJohn|     Bot|   102|\n",
            "|AVpe7xlELJeJML43ypLz|AmazonBasics AA P...|B00QWO9P0O,B01IB8...|     Health & Beauty|       null|      null|     4|Usually I buy bri...|     Now dairy-free!|  ByNate Werber|  Person|   157|\n",
            "|AVpgNzjwLJeJML43Kpxn|AmazonBasics AAA ...|B00QWO9P0O,B00LH3...|     Health & Beauty|       null|      null|     1|I see that these ...|     I Won't Reorder|  ByNightrunner|  Person|   401|\n",
            "|AVpgNzjwLJeJML43Kpxn|AmazonBasics AAA ...|B00QWO9P0O,B00LH3...|     Health & Beauty|       null|      null|     5|These batteries a...|Great value for t...|ByVictor Medina|  Person|   163|\n",
            "|AWK8z0pOIwln0LfXlSxH|\"Amazon Echo Show...|          B01J24C0TI|Electronics,Hardware|       TRUE|         0|     5|with this echo li...|    great abilities!|           jjay|  Person|    99|\n",
            "|AVpgNzjwLJeJML43Kpxn|AmazonBasics AAA ...|B00QWO9P0O,B00LH3...|     Health & Beauty|       null|      null|     5|They're batteries...|          They work.|     ByKableGuy|     Bot|    32|\n",
            "|AVpgNzjwLJeJML43Kpxn|AmazonBasics AAA ...|B00QWO9P0O,B00LH3...|     Health & Beauty|       null|      null|     5|Good deal for a l...|            good buy|  ByJohn Brewer|  Person|    60|\n",
            "|AVpgNzjwLJeJML43Kpxn|AmazonBasics AAA ...|B00QWO9P0O,B00LH3...|     Health & Beauty|       null|      null|     5|           vary good|          Five Stars|   Bysaud hamad|  Person|     9|\n",
            "|AVqkIhwDv8e3D1O-lebb|\"All-New Fire HD ...|          B01AHB9CN2|         Electronics|       TRUE|         0|     5|The best tablet f...|        Amazing deal|         JTShep|     Bot|    85|\n",
            "|AVzvXXXN-jtxr-f3z35Q|Amazon Echo (1st ...|          B00Y3QOH5G|         Electronics|       null|      null|     5|We have several e...|Affordable person...|        hagen51|  Person|   580|\n",
            "|AVqkIhxunnc1JgDc3kg_|Fire HD 8 Tablet ...|          B018T075DC|         Electronics|       TRUE|         0|     5|Easy to use and g...|     Love the kindle|        CherylS|     Bot|    58|\n",
            "|AVwjfXp4QMlgsOJE8qmk|All-New Fire HD 8...|          B01J94SBEY|         Electronics|       TRUE|         0|     5|My daughter loves...|    Great for my 4yo|           ARob|  Person|    94|\n",
            "|AVpjEN4jLJeJML43rpUe|\"Brand New Amazon...|          B018Y225IA|         Electronics|       TRUE|         0|     5|It was amazing ev...|             Love it|         Nathan|     Bot|    57|\n",
            "+--------------------+--------------------+--------------------+--------------------+-----------+----------+------+--------------------+--------------------+---------------+--------+------+\n",
            "only showing top 20 rows\n",
            "\n"
          ],
          "name": "stdout"
        }
      ]
    },
    {
      "cell_type": "code",
      "metadata": {
        "id": "tBHTNk30zfU_",
        "colab_type": "code",
        "colab": {}
      },
      "source": [
        " from pyspark.ml.feature import Tokenizer, StopWordsRemover, HashingTF, IDF, StringIndexer\n",
        "# Create all the features to the data set\n",
        "reviewer_to_num = StringIndexer(inputCol='reviewer',outputCol='label')\n",
        "tokenizer = Tokenizer(inputCol=\"text\", outputCol=\"token_text\")\n",
        "stopremove = StopWordsRemover(inputCol='token_text',outputCol='stop_tokens')\n",
        "hashingTF = HashingTF(inputCol=\"token_text\", outputCol='hash_token')\n",
        "idf = IDF(inputCol='hash_token', outputCol='idf_token')"
      ],
      "execution_count": 0,
      "outputs": []
    },
    {
      "cell_type": "code",
      "metadata": {
        "id": "Pow8HsLqzfbR",
        "colab_type": "code",
        "colab": {}
      },
      "source": [
        " from pyspark.ml.feature import VectorAssembler\n",
        "from pyspark.ml.linalg import Vector\n",
        "\n",
        "# Create feature vectors\n",
        "clean_up = VectorAssembler(inputCols=['idf_token', 'length'], outputCol='features')"
      ],
      "execution_count": 0,
      "outputs": []
    },
    {
      "cell_type": "code",
      "metadata": {
        "id": "JtdtwoPvzfhC",
        "colab_type": "code",
        "colab": {}
      },
      "source": [
        "# Create a and run a data processing Pipeline\n",
        "from pyspark.ml import Pipeline\n",
        "data_prep_pipeline = Pipeline(stages=[reviewer_to_num, tokenizer, stopremove, hashingTF, idf, clean_up])"
      ],
      "execution_count": 0,
      "outputs": []
    },
    {
      "cell_type": "code",
      "metadata": {
        "id": "tF5WZD-Azn6y",
        "colab_type": "code",
        "colab": {}
      },
      "source": [
        " # Fit and transform the pipeline\n",
        "cleaner = data_prep_pipeline.fit(data_df)\n",
        "cleaned = cleaner.transform(data_df)"
      ],
      "execution_count": 0,
      "outputs": []
    },
    {
      "cell_type": "code",
      "metadata": {
        "id": "GimhAFsPzn98",
        "colab_type": "code",
        "outputId": "4a1b7da3-32d4-410b-bd2b-1841ffb7f8d5",
        "colab": {
          "base_uri": "https://localhost:8080/",
          "height": 501
        }
      },
      "source": [
        "cleaned.select(['label', 'features']).show()"
      ],
      "execution_count": 9,
      "outputs": [
        {
          "output_type": "stream",
          "text": [
            "+-----+--------------------+\n",
            "|label|            features|\n",
            "+-----+--------------------+\n",
            "|  1.0|(262145,[16332,20...|\n",
            "|  1.0|(262145,[5795,163...|\n",
            "|  0.0|(262145,[16332,84...|\n",
            "|  2.0|(262145,[6258,706...|\n",
            "|  0.0|(262145,[35263,37...|\n",
            "|  1.0|(262145,[3924,963...|\n",
            "|  1.0|(262145,[12888,14...|\n",
            "|  0.0|(262145,[4869,963...|\n",
            "|  1.0|(262145,[9639,244...|\n",
            "|  1.0|(262145,[2306,963...|\n",
            "|  1.0|(262145,[7367,249...|\n",
            "|  1.0|(262145,[18691,37...|\n",
            "|  0.0|(262145,[68056,91...|\n",
            "|  1.0|(262145,[9639,163...|\n",
            "|  1.0|(262145,[83936,11...|\n",
            "|  0.0|(262145,[9639,163...|\n",
            "|  1.0|(262145,[14,254,4...|\n",
            "|  0.0|(262145,[9639,473...|\n",
            "|  1.0|(262145,[7062,963...|\n",
            "|  0.0|(262145,[16426,25...|\n",
            "+-----+--------------------+\n",
            "only showing top 20 rows\n",
            "\n"
          ],
          "name": "stdout"
        }
      ]
    },
    {
      "cell_type": "code",
      "metadata": {
        "id": "ajlXxxvQXPA2",
        "colab_type": "code",
        "colab": {}
      },
      "source": [
        "from pyspark.ml.classification import NaiveBayes\n",
        "# Break data down into a training set and a testing set\n",
        "training, testing = cleaned.randomSplit([0.7, 0.3])\n",
        "\n",
        "# Create a Naive Bayes model and fit training data\n",
        "nb = NaiveBayes()\n",
        "predictor = nb.fit(training)"
      ],
      "execution_count": 0,
      "outputs": []
    },
    {
      "cell_type": "code",
      "metadata": {
        "id": "sLTgygygzoEY",
        "colab_type": "code",
        "outputId": "d14b71e1-081a-42a0-a8e1-5d531366c182",
        "colab": {
          "base_uri": "https://localhost:8080/",
          "height": 707
        }
      },
      "source": [
        "test_results = predictor.transform(testing)\n",
        "test_results.show(30)"
      ],
      "execution_count": 11,
      "outputs": [
        {
          "output_type": "stream",
          "text": [
            "+--------------------+--------------------+--------------------+-----------------+-----------+----------+------+--------------------+--------------------+--------------------+---------+------+-----+--------------------+--------------------+--------------------+--------------------+--------------------+--------------------+--------------------+----------+\n",
            "|                  id|                name|               asins|primaryCategories|doRecommend|numHelpful|rating|                text|               title|            username| reviewer|length|label|          token_text|         stop_tokens|          hash_token|           idf_token|            features|       rawPrediction|         probability|prediction|\n",
            "+--------------------+--------------------+--------------------+-----------------+-----------+----------+------+--------------------+--------------------+--------------------+---------+------+-----+--------------------+--------------------+--------------------+--------------------+--------------------+--------------------+--------------------+----------+\n",
            "|AVpe7JuRilAPnD_xQ_M6|Oem Amazon Kindle...|          B00BGIQS1A|      Electronics|       null|       220|     1|No reason. This p...|Why yet another c...|       Jeff L Howley|   Person|  1160|  1.0|[no, reason., thi...|[reason., product...|(262144,[9639,124...|(262144,[9639,124...|(262145,[9639,124...|[-10692.158684500...|[1.0,4.7149914125...|       0.0|\n",
            "|AVpe7xlELJeJML43ypLz|AmazonBasics AA P...|B00QWO9P0O,B01IB8...|  Health & Beauty|       null|      null|     1|3/4 of the packag...|     Nope, not again|   ByAmazon Customer|      Bot|   179|  0.0|[3/4, of, the, pa...|[3/4, package, du...|(262144,[2711,963...|(262144,[2711,963...|(262145,[2711,963...|[-1569.4566094197...|[0.81693301048112...|       0.0|\n",
            "|AVpe7xlELJeJML43ypLz|AmazonBasics AA P...|B00QWO9P0O,B01IB8...|  Health & Beauty|       null|      null|     1|Bought a, c d 9v ...|dont waiste your ...|               Bycce|  userBot|   376|  2.0|[bought, a,, c, d...|[bought, a,, c, d...|(262144,[9639,120...|(262144,[9639,120...|(262145,[9639,120...|[-3665.8741295732...|[1.96692485191319...|       1.0|\n",
            "|AVpe7xlELJeJML43ypLz|AmazonBasics AA P...|B00QWO9P0O,B01IB8...|  Health & Beauty|       null|      null|     1|Burnt up a copper...|They WILL burn up...|  ByMy Real Pen Name|   Person|   174|  1.0|[burnt, up, a, co...|[burnt, copper, s...|(262144,[16332,24...|(262144,[16332,24...|(262145,[16332,24...|[-1517.0645690857...|[0.99999999999556...|       0.0|\n",
            "|AVpe7xlELJeJML43ypLz|AmazonBasics AA P...|B00QWO9P0O,B01IB8...|  Health & Beauty|       null|      null|     1|I bought these se...|        Short life!!|          Bypbickert|  userBot|   389|  2.0|[i, bought, these...|[bought, several,...|(262144,[6061,963...|(262144,[6061,963...|(262145,[6061,963...|[-3247.1465465499...|[7.32266359357789...|       2.0|\n",
            "|AVpe7xlELJeJML43ypLz|AmazonBasics AA P...|B00QWO9P0O,B01IB8...|  Health & Beauty|       null|      null|     1|I had high hopes ...|I must have recei...|           ByCari M.|  userBot|   309|  2.0|[i, had, high, ho...|[high, hopes, sur...|(262144,[2992,123...|(262144,[2992,123...|(262145,[2992,123...|[-2646.4360840737...|[1.0,1.0678118345...|       0.0|\n",
            "|AVpe7xlELJeJML43ypLz|AmazonBasics AA P...|B00QWO9P0O,B01IB8...|  Health & Beauty|       null|      null|     2|Bad shelf life. N...|           Two Stars|            ByViper1|      Bot|    65|  0.0|[bad, shelf, life...|[bad, shelf, life...|(262144,[16332,19...|(262144,[16332,19...|(262145,[16332,19...|[-691.16766418069...|[0.00126906477311...|       1.0|\n",
            "|AVpe7xlELJeJML43ypLz|AmazonBasics AA P...|B00QWO9P0O,B01IB8...|  Health & Beauty|       null|      null|     2|Go with a brand n...|           Two Stars|               ByDon|      Bot|    21|  0.0|[go, with, a, bra...|  [go, brand, name.]|(262144,[126466,1...|(262144,[126466,1...|(262145,[126466,1...|[-198.55939818754...|[9.51237646104827...|       1.0|\n",
            "|AVpe7xlELJeJML43ypLz|AmazonBasics AA P...|B00QWO9P0O,B01IB8...|  Health & Beauty|       null|      null|     2|Very disappointed...|Very disappointed...|           ByKAHchoo|  userBot|   547|  2.0|[very, disappoint...|[disappointed, ba...|(262144,[9639,111...|(262144,[9639,111...|(262145,[9639,111...|[-4400.1025846683...|[1.08803208598893...|       1.0|\n",
            "|AVpe7xlELJeJML43ypLz|AmazonBasics AA P...|B00QWO9P0O,B01IB8...|  Health & Beauty|       null|      null|     3|Great value for k...|Great for some ap...|   ByAndrew M. Hiltz|  userBot|   285|  2.0|[great, value, fo...|[great, value, ki...|(262144,[1109,963...|(262144,[1109,963...|(262145,[1109,963...|[-2152.3287389305...|[0.60158744468071...|       0.0|\n",
            "|AVpe7xlELJeJML43ypLz|AmazonBasics AA P...|B00QWO9P0O,B01IB8...|  Health & Beauty|       null|      null|     3|    OK for AAA needs|         Three Stars|              Byanon|      Bot|    16|  0.0|[ok, for, aaa, ne...|    [ok, aaa, needs]|(262144,[16332,12...|(262144,[16332,12...|(262145,[16332,12...|[-166.59481049251...|[0.99777302695154...|       0.0|\n",
            "|AVpe7xlELJeJML43ypLz|AmazonBasics AA P...|B00QWO9P0O,B01IB8...|  Health & Beauty|       null|      null|     3|The batteries are...|Okay but good for...|             ByJames|      Bot|   137|  0.0|[the, batteries, ...|[batteries, good,...|(262144,[11352,24...|(262144,[11352,24...|(262145,[11352,24...|[-904.89761858979...|[0.99999999999241...|       0.0|\n",
            "|AVpe7xlELJeJML43ypLz|AmazonBasics AA P...|B00QWO9P0O,B01IB8...|  Health & Beauty|       null|      null|     3|not as good as th...|         Three Stars|             Bydiana|  userBot|    63|  2.0|[not, as, good, a...|[good, higher, qu...|(262144,[50940,68...|(262144,[50940,68...|(262145,[50940,68...|[-386.11467614573...|[1.31900154154727...|       1.0|\n",
            "|AVpe7xlELJeJML43ypLz|AmazonBasics AA P...|B00QWO9P0O,B01IB8...|  Health & Beauty|       null|      null|     4|As advertised, I ...|       AAA Batteries|   ByAmazon Customer|      Bot|    43|  0.0|[as, advertised,,...|[advertised,, pro...|(262144,[24417,50...|(262144,[24417,50...|(262145,[24417,50...|[-321.15173883823...|[0.99980940727558...|       0.0|\n",
            "|AVpe7xlELJeJML43ypLz|AmazonBasics AA P...|B00QWO9P0O,B01IB8...|  Health & Beauty|       null|      null|     4|           Batteries|           Batteries|             ByOskar|reviewBot|     9|  3.0|         [batteries]|         [batteries]|(262144,[68056],[...|(262144,[68056],[...|(262145,[68056,26...|[-29.660062293052...|[0.66611812865723...|       0.0|\n",
            "|AVpe7xlELJeJML43ypLz|AmazonBasics AA P...|B00QWO9P0O,B01IB8...|  Health & Beauty|       null|      null|     4|Dammit, I ordered...|          Four Stars|ByTotally Not A R...|   Person|    69|  1.0|[dammit,, i, orde...|[dammit,, ordered...|(262144,[24417,25...|(262144,[24417,25...|(262145,[24417,25...|[-730.04403285903...|[0.70044781271324...|       0.0|\n",
            "|AVpe7xlELJeJML43ypLz|AmazonBasics AA P...|B00QWO9P0O,B01IB8...|  Health & Beauty|       null|      null|     4|These seem to be ...|These seem to be ...|          ByCabe Cox|      Bot|   172|  0.0|[these, seem, to,...|[seem, normal, aa...|(262144,[1587,163...|(262144,[1587,163...|(262145,[1587,163...|[-1393.9629641822...|[0.83955917276031...|       0.0|\n",
            "|AVpe7xlELJeJML43ypLz|AmazonBasics AA P...|B00QWO9P0O,B01IB8...|  Health & Beauty|       null|      null|     4|    They work great!|     Sweet batteries|           ByMikaela|reviewBot|    16|  3.0|[they, work, great!]|      [work, great!]|(262144,[34343,15...|(262144,[34343,15...|(262145,[34343,15...|[-105.29558313956...|[0.96722134476618...|       0.0|\n",
            "|AVpe7xlELJeJML43ypLz|AmazonBasics AA P...|B00QWO9P0O,B01IB8...|  Health & Beauty|       null|      null|     4|Usually I buy bri...|     Now dairy-free!|       ByNate Werber|   Person|   157|  1.0|[usually, i, buy,...|[usually, buy, br...|(262144,[9639,244...|(262144,[9639,244...|(262145,[9639,244...|[-1294.9355123474...|[0.00475565913964...|       1.0|\n",
            "|AVpe7xlELJeJML43ypLz|AmazonBasics AA P...|B00QWO9P0O,B01IB8...|  Health & Beauty|       null|      null|     4|  Works as expected.|          Four Stars|             Bybucco|reviewBot|    18|  3.0|[works, as, expec...|  [works, expected.]|(262144,[12888,48...|(262144,[12888,48...|(262145,[12888,48...|[-106.10467824247...|[0.99999291153390...|       0.0|\n",
            "|AVpe7xlELJeJML43ypLz|AmazonBasics AA P...|B00QWO9P0O,B01IB8...|  Health & Beauty|       null|      null|     4|           i love it|          Four Stars|        Bycoolgame24|reviewBot|     9|  3.0|       [i, love, it]|              [love]|(262144,[24417,86...|(262144,[24417,86...|(262145,[24417,86...|[-42.156799169988...|[0.98818580852038...|       0.0|\n",
            "|AVpe7xlELJeJML43ypLz|AmazonBasics AA P...|B00QWO9P0O,B01IB8...|  Health & Beauty|       null|      null|     5|A ton of batterie...|               Works|   ByAmazon Customer|  userBot|   112|  2.0|[a, ton, of, batt...|[ton, batteries, ...|(262144,[8261,963...|(262144,[8261,963...|(262145,[8261,963...|[-791.49966984651...|[0.99999999873173...|       0.0|\n",
            "|AVpe7xlELJeJML43ypLz|AmazonBasics AA P...|B00QWO9P0O,B01IB8...|  Health & Beauty|       null|      null|     5|A+A+A+A+A+ FAST D...|A+A+A+A+A+ FAST D...|       Bysheila ware|      Bot|    41|  0.0|[a+a+a+a+a+, fast...|[a+a+a+a+a+, fast...|(262144,[50940,97...|(262144,[50940,97...|(262145,[50940,97...|[-386.02902732320...|[0.92225141421841...|       0.0|\n",
            "|AVpe7xlELJeJML43ypLz|AmazonBasics AA P...|B00QWO9P0O,B01IB8...|  Health & Beauty|       null|      null|     5|Always looking fo...|        Good bargain|   ByKindle Customer|      Bot|   107|  0.0|[always, looking,...|[always, looking,...|(262144,[9639,160...|(262144,[9639,160...|(262145,[9639,160...|[-737.74085915000...|[0.99999999999907...|       0.0|\n",
            "|AVpe7xlELJeJML43ypLz|AmazonBasics AA P...|B00QWO9P0O,B01IB8...|  Health & Beauty|       null|      null|     5|            Amazing!|          Five Stars|       ByAlex Berrio|reviewBot|     8|  3.0|          [amazing!]|          [amazing!]|(262144,[105358],...|(262144,[105358],...|(262145,[105358,2...|[-74.856470362338...|[0.99751736843860...|       0.0|\n",
            "|AVpe7xlELJeJML43ypLz|AmazonBasics AA P...|B00QWO9P0O,B01IB8...|  Health & Beauty|       null|      null|     5|Amazingly fast de...|          Five Stars|             ByMaria|  userBot|    43|  2.0|[amazingly, fast,...|[amazingly, fast,...|(262144,[35426,11...|(262144,[35426,11...|(262145,[35426,11...|[-469.71153601590...|[0.99976025935555...|       0.0|\n",
            "|AVpe7xlELJeJML43ypLz|AmazonBasics AA P...|B00QWO9P0O,B01IB8...|  Health & Beauty|       null|      null|     5|Any parent of tod...|Perfect to stockpile|   ByRenee Martineau|   Person|   280|  1.0|[any, parent, of,...|[parent, toddlers...|(262144,[8057,951...|(262144,[8057,951...|(262145,[8057,951...|[-2064.1147221614...|[1.0,2.8299782021...|       0.0|\n",
            "|AVpe7xlELJeJML43ypLz|AmazonBasics AA P...|B00QWO9P0O,B01IB8...|  Health & Beauty|       null|      null|     5|Arrived quickly,g...|AmazonBasics AA b...|       ByDavid Huber|      Bot|    58|  0.0|[arrived, quickly...|[arrived, quickly...|(262144,[45779,87...|(262144,[45779,87...|(262145,[45779,87...|[-430.64980402040...|[0.99926850915468...|       0.0|\n",
            "|AVpe7xlELJeJML43ypLz|AmazonBasics AA P...|B00QWO9P0O,B01IB8...|  Health & Beauty|       null|      null|     5|      As advertised!|Love AmazonBasic ...|           ByL Bauer|      Bot|    14|  0.0|   [as, advertised!]|       [advertised!]|(262144,[50940,12...|(262144,[50940,12...|(262145,[50940,12...|[-122.54440910946...|[2.55966230540865...|       2.0|\n",
            "|AVpe7xlELJeJML43ypLz|AmazonBasics AA P...|B00QWO9P0O,B01IB8...|  Health & Beauty|       null|      null|     5|Back up for my mo...|                 AAA|              ByJosh|  userBot|    35|  2.0|[back, up, for, m...|[back, motion, se...|(262144,[16332,33...|(262144,[16332,33...|(262145,[16332,33...|[-332.70632566650...|[0.99999912290192...|       0.0|\n",
            "+--------------------+--------------------+--------------------+-----------------+-----------+----------+------+--------------------+--------------------+--------------------+---------+------+-----+--------------------+--------------------+--------------------+--------------------+--------------------+--------------------+--------------------+----------+\n",
            "only showing top 30 rows\n",
            "\n"
          ],
          "name": "stdout"
        }
      ]
    },
    {
      "cell_type": "code",
      "metadata": {
        "id": "3JebgQ082sUp",
        "colab_type": "code",
        "outputId": "d096d51e-4030-47f1-b531-e21f0f7b6a7f",
        "colab": {
          "base_uri": "https://localhost:8080/",
          "height": 36
        }
      },
      "source": [
        " # Use the Class Evaluator for a cleaner description\n",
        "from pyspark.ml.evaluation import MulticlassClassificationEvaluator\n",
        "\n",
        "acc_eval = MulticlassClassificationEvaluator()\n",
        "acc = acc_eval.evaluate(test_results)\n",
        "print(\"Accuracy of model at predicting reviews was: %f\" % acc)"
      ],
      "execution_count": 12,
      "outputs": [
        {
          "output_type": "stream",
          "text": [
            "Accuracy of model at predicting reviews was: 0.438471\n"
          ],
          "name": "stdout"
        }
      ]
    },
    {
      "cell_type": "code",
      "metadata": {
        "id": "VmVfqGdo-AVX",
        "colab_type": "code",
        "colab": {}
      },
      "source": [
        ""
      ],
      "execution_count": 0,
      "outputs": []
    },
    {
      "cell_type": "code",
      "metadata": {
        "id": "XNAB5_Ex-AZM",
        "colab_type": "code",
        "colab": {
          "base_uri": "https://localhost:8080/",
          "height": 501
        },
        "outputId": "efaa4efd-f0e6-47f1-9287-d31213b1d6b9"
      },
      "source": [
        "test_results.select(['title', 'stop_tokens','text','reviewer']).show()"
      ],
      "execution_count": 17,
      "outputs": [
        {
          "output_type": "stream",
          "text": [
            "+--------------------+--------------------+--------------------+---------+\n",
            "|               title|         stop_tokens|                text| reviewer|\n",
            "+--------------------+--------------------+--------------------+---------+\n",
            "|Why yet another c...|[reason., product...|No reason. This p...|   Person|\n",
            "|     Nope, not again|[3/4, package, du...|3/4 of the packag...|      Bot|\n",
            "|dont waiste your ...|[bought, a,, c, d...|Bought a, c d 9v ...|  userBot|\n",
            "|They WILL burn up...|[burnt, copper, s...|Burnt up a copper...|   Person|\n",
            "|        Short life!!|[bought, several,...|I bought these se...|  userBot|\n",
            "|I must have recei...|[high, hopes, sur...|I had high hopes ...|  userBot|\n",
            "|           Two Stars|[bad, shelf, life...|Bad shelf life. N...|      Bot|\n",
            "|           Two Stars|  [go, brand, name.]|Go with a brand n...|      Bot|\n",
            "|Very disappointed...|[disappointed, ba...|Very disappointed...|  userBot|\n",
            "|Great for some ap...|[great, value, ki...|Great value for k...|  userBot|\n",
            "|         Three Stars|    [ok, aaa, needs]|    OK for AAA needs|      Bot|\n",
            "|Okay but good for...|[batteries, good,...|The batteries are...|      Bot|\n",
            "|         Three Stars|[good, higher, qu...|not as good as th...|  userBot|\n",
            "|       AAA Batteries|[advertised,, pro...|As advertised, I ...|      Bot|\n",
            "|           Batteries|         [batteries]|           Batteries|reviewBot|\n",
            "|          Four Stars|[dammit,, ordered...|Dammit, I ordered...|   Person|\n",
            "|These seem to be ...|[seem, normal, aa...|These seem to be ...|      Bot|\n",
            "|     Sweet batteries|      [work, great!]|    They work great!|reviewBot|\n",
            "|     Now dairy-free!|[usually, buy, br...|Usually I buy bri...|   Person|\n",
            "|          Four Stars|  [works, expected.]|  Works as expected.|reviewBot|\n",
            "+--------------------+--------------------+--------------------+---------+\n",
            "only showing top 20 rows\n",
            "\n"
          ],
          "name": "stdout"
        }
      ]
    }
  ]
}