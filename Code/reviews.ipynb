{
  "nbformat": 4,
  "nbformat_minor": 0,
  "metadata": {
    "colab": {
      "name": "Untitled4.ipynb",
      "provenance": [],
      "authorship_tag": "ABX9TyPRn+IefVwfkmelAJ80FJdX",
      "include_colab_link": true
    },
    "kernelspec": {
      "name": "python3",
      "display_name": "Python 3"
    }
  },
  "cells": [
    {
      "cell_type": "markdown",
      "metadata": {
        "id": "view-in-github",
        "colab_type": "text"
      },
      "source": [
        "<a href=\"https://colab.research.google.com/github/laurahallaman1/final_project/blob/master/reviews.ipynb\" target=\"_parent\"><img src=\"https://colab.research.google.com/assets/colab-badge.svg\" alt=\"Open In Colab\"/></a>"
      ]
    },
    {
      "cell_type": "code",
      "metadata": {
        "id": "cEZWekfsbTZ2",
        "colab_type": "code",
        "colab": {}
      },
      "source": [
        "# Install Java, Spark, and Findspark\n",
        "!apt-get install openjdk-8-jdk-headless -qq > /dev/null\n",
        "!wget -q http://www-us.apache.org/dist/spark/spark-2.4.5/spark-2.4.5-bin-hadoop2.7.tgz\n",
        "!tar xf spark-2.4.5-bin-hadoop2.7.tgz\n",
        "!pip install -q findspark\n",
        "\n",
        "# Set Environment Variables\n",
        "import os\n",
        "os.environ[\"JAVA_HOME\"] = \"/usr/lib/jvm/java-8-openjdk-amd64\"\n",
        "os.environ[\"SPARK_HOME\"] = \"/content/spark-2.4.5-bin-hadoop2.7\"\n",
        "\n",
        "# Start a SparkSession\n",
        "import findspark\n",
        "findspark.init()"
      ],
      "execution_count": 0,
      "outputs": []
    },
    {
      "cell_type": "code",
      "metadata": {
        "id": "Fsldk6o9bWVI",
        "colab_type": "code",
        "colab": {}
      },
      "source": [
        " # Start Spark session\n",
        "from pyspark.sql import SparkSession\n",
        "spark = SparkSession.builder.appName(\"NaiveBayes\").getOrCreate()"
      ],
      "execution_count": 0,
      "outputs": []
    },
    {
      "cell_type": "code",
      "metadata": {
        "id": "LH_q80iMbWai",
        "colab_type": "code",
        "outputId": "cf4b5ffe-4465-455d-b69e-876139aee559",
        "colab": {
          "base_uri": "https://localhost:8080/",
          "height": 498
        }
      },
      "source": [
        "# Read in data from S3 Buckets\n",
        "from pyspark import SparkFiles\n",
        "url =\"https://raw.githubusercontent.com/laurahallaman1/final_project/master/Reviewer_Combined_Amazon_Consumer_Reviews.csv\"\n",
        "spark.sparkContext.addFile(url)\n",
        "df = spark.read.csv(SparkFiles.get(\"Reviewer_Combined_Amazon_Consumer_Reviews.csv\"), sep=\",\", header=True)\n",
        "\n",
        "# Show DataFrame\n",
        "df.show()"
      ],
      "execution_count": 0,
      "outputs": [
        {
          "output_type": "stream",
          "text": [
            "+--------------------+--------------------+--------------------+--------------------+-----------+-----------+------+--------------------+-------------------+--------------------+----------+--------+\n",
            "|                  id|                name|               asins|   primaryCategories|doRecommend| numHelpful|rating|                text|              title|            username|      _c10|reviewer|\n",
            "+--------------------+--------------------+--------------------+--------------------+-----------+-----------+------+--------------------+-------------------+--------------------+----------+--------+\n",
            "|AVpgdkC8ilAPnD_xsvyi|Fire Tablet, 7 Di...|          B018Y22BI4|         Electronics|       TRUE|          0|     3|Serves the purpos...|         Good price|                 712|      null|     Bot|\n",
            "|AVqkIdZiv8e3D1O-leaJ|Fire Tablet with ...|          B018Y224PY|         Electronics|       TRUE|          0|     3|Serves the purpos...|         Good price|                 712|      null|     Bot|\n",
            "|AVpjEN4jLJeJML43rpUe|Fire Tablet with ...|          B018Y225IA|         Electronics|       TRUE|          0|     3|Serves the purpos...|         Good price|                 712|      null|     Bot|\n",
            "|AVqVGWQDv8e3D1O-ldFr|All-New Fire HD 8...|B018SZT3BK,B01AHB...|         Electronics|       TRUE|          0|     5|This tablet is sm...|       Great tablet|                1098|      null|     Bot|\n",
            "|AVqkIhxunnc1JgDc3kg_|Fire HD 8 Tablet ...|          B018T075DC|         Electronics|       TRUE|          0|     5|This tablet is sm...|       Great tablet|                1098|      null|     Bot|\n",
            "|AVpfw2hvilAPnD_xh0rH|Fire Kids Edition...|          B018Y226XO|Toys & Games,Elec...|       TRUE|          0|     3|This device is a ...|Good for 4 year old|                1234|      null|     Bot|\n",
            "|AVph0EeEilAPnD_x9myq|Fire Kids Edition...|          B018Y22C2Y|         Electronics|       TRUE|          0|     3|This device is a ...|Good for 4 year old|                1234|      null|     Bot|\n",
            "|AVqVGWLKnnc1JgDc3jF1|Fire Kids Edition...|          B018Y23MNM|         Electronics|       TRUE|          0|     3|This device is a ...|Good for 4 year old|                1234|      null|     Bot|\n",
            "|AVph0EeEilAPnD_x9myq|Fire Kids Edition...|          B018Y22C2Y|         Electronics|       TRUE|          0|     3|This device is a ...|Good for 4 year old|                1234|      null|     Bot|\n",
            "|AVpgdkC8ilAPnD_xsvyi|Fire Tablet, 7 Di...|          B018Y22BI4|         Electronics|       TRUE|          3|     5|Using for Pandora...|         Easy Setup|                1234|      null|     Bot|\n",
            "|AVqkIdZiv8e3D1O-leaJ|Fire Tablet with ...|          B018Y224PY|         Electronics|       TRUE|          2|     5|Using for Pandora...|         Easy Setup|                1234|      null|     Bot|\n",
            "|AVpjEN4jLJeJML43rpUe|Fire Tablet with ...|          B018Y225IA|         Electronics|       TRUE|          3|     5|Using for Pandora...|         Easy Setup|                1234|      null|     Bot|\n",
            "|AVpgdkC8ilAPnD_xsvyi|Fire Tablet, 7 Di...|          B018Y22BI4|         Electronics|       TRUE|          3|     5|Using for Pandora...|         Easy Setup|                1234|      null|     Bot|\n",
            "|AVpjEN4jLJeJML43rpUe|\"Brand New Amazon...|          B018Y225IA|         Electronics|       TRUE|          3|     5|Using for Pandora...|         Easy Setup|                1234|      null|     Bot|\n",
            "|AVqkIdZiv8e3D1O-leaJ|\"Fire Tablet with...|               16 GB| Magenta - with S...| B018Y224PY|Electronics|  TRUE|                   2|                  5|Using for Pandora...|Easy Setup|    1234|\n",
            "|AVpfpK8KLJeJML43BCuD|Amazon Tap Smart ...|          B01BH83OOM|         Electronics|       TRUE|          0|     4|Was a little diff...|         Amazon Tap|                1234|      null|     Bot|\n",
            "|AVpfpK8KLJeJML43BCuD|Amazon Tap - Alex...|          B01BH83OOM|         Electronics|       TRUE|          0|     4|Was a little diff...|         Amazon Tap|                1234|      null|     Bot|\n",
            "|AVqVGZN9QMlgsOJE6eUZ|Kindle Oasis E-re...|          B00REQKWGA|         Electronics|       TRUE|          0|     5|Wife love it, rea...|      great product|                1244|      null|     Bot|\n",
            "|AVqVGZO3nnc1JgDc3jGK|Kindle Oasis E-re...|          B00VINDBJK|   Electronics,Media|       TRUE|          0|     5|Wife love it, rea...|      great product|                1244|      null|     Bot|\n",
            "|AVqVGZQBQMlgsOJE6eUb|Kindle Oasis E-re...|          B00ZS0G0PG|   Electronics,Media|       TRUE|          0|     5|Wife love it, rea...|      great product|                1244|      null|     Bot|\n",
            "+--------------------+--------------------+--------------------+--------------------+-----------+-----------+------+--------------------+-------------------+--------------------+----------+--------+\n",
            "only showing top 20 rows\n",
            "\n"
          ],
          "name": "stdout"
        }
      ]
    },
    {
      "cell_type": "code",
      "metadata": {
        "id": "80srfYxvbWZB",
        "colab_type": "code",
        "outputId": "7db6108e-2d53-4f14-8d2c-e0fca5f99c7a",
        "colab": {
          "base_uri": "https://localhost:8080/",
          "height": 498
        }
      },
      "source": [
        "from pyspark.sql.functions import length\n",
        "# Create a length column to be used as a future feature \n",
        "data_df = df.withColumn('length', length(df['text']))\n",
        "data_df.show()"
      ],
      "execution_count": 0,
      "outputs": [
        {
          "output_type": "stream",
          "text": [
            "+--------------------+--------------------+--------------------+--------------------+-----------+-----------+------+--------------------+-------------------+--------------------+----------+--------+------+\n",
            "|                  id|                name|               asins|   primaryCategories|doRecommend| numHelpful|rating|                text|              title|            username|      _c10|reviewer|length|\n",
            "+--------------------+--------------------+--------------------+--------------------+-----------+-----------+------+--------------------+-------------------+--------------------+----------+--------+------+\n",
            "|AVpgdkC8ilAPnD_xsvyi|Fire Tablet, 7 Di...|          B018Y22BI4|         Electronics|       TRUE|          0|     3|Serves the purpos...|         Good price|                 712|      null|     Bot|    59|\n",
            "|AVqkIdZiv8e3D1O-leaJ|Fire Tablet with ...|          B018Y224PY|         Electronics|       TRUE|          0|     3|Serves the purpos...|         Good price|                 712|      null|     Bot|    59|\n",
            "|AVpjEN4jLJeJML43rpUe|Fire Tablet with ...|          B018Y225IA|         Electronics|       TRUE|          0|     3|Serves the purpos...|         Good price|                 712|      null|     Bot|    59|\n",
            "|AVqVGWQDv8e3D1O-ldFr|All-New Fire HD 8...|B018SZT3BK,B01AHB...|         Electronics|       TRUE|          0|     5|This tablet is sm...|       Great tablet|                1098|      null|     Bot|   119|\n",
            "|AVqkIhxunnc1JgDc3kg_|Fire HD 8 Tablet ...|          B018T075DC|         Electronics|       TRUE|          0|     5|This tablet is sm...|       Great tablet|                1098|      null|     Bot|   119|\n",
            "|AVpfw2hvilAPnD_xh0rH|Fire Kids Edition...|          B018Y226XO|Toys & Games,Elec...|       TRUE|          0|     3|This device is a ...|Good for 4 year old|                1234|      null|     Bot|    85|\n",
            "|AVph0EeEilAPnD_x9myq|Fire Kids Edition...|          B018Y22C2Y|         Electronics|       TRUE|          0|     3|This device is a ...|Good for 4 year old|                1234|      null|     Bot|    85|\n",
            "|AVqVGWLKnnc1JgDc3jF1|Fire Kids Edition...|          B018Y23MNM|         Electronics|       TRUE|          0|     3|This device is a ...|Good for 4 year old|                1234|      null|     Bot|    85|\n",
            "|AVph0EeEilAPnD_x9myq|Fire Kids Edition...|          B018Y22C2Y|         Electronics|       TRUE|          0|     3|This device is a ...|Good for 4 year old|                1234|      null|     Bot|    85|\n",
            "|AVpgdkC8ilAPnD_xsvyi|Fire Tablet, 7 Di...|          B018Y22BI4|         Electronics|       TRUE|          3|     5|Using for Pandora...|         Easy Setup|                1234|      null|     Bot|    98|\n",
            "|AVqkIdZiv8e3D1O-leaJ|Fire Tablet with ...|          B018Y224PY|         Electronics|       TRUE|          2|     5|Using for Pandora...|         Easy Setup|                1234|      null|     Bot|    98|\n",
            "|AVpjEN4jLJeJML43rpUe|Fire Tablet with ...|          B018Y225IA|         Electronics|       TRUE|          3|     5|Using for Pandora...|         Easy Setup|                1234|      null|     Bot|    98|\n",
            "|AVpgdkC8ilAPnD_xsvyi|Fire Tablet, 7 Di...|          B018Y22BI4|         Electronics|       TRUE|          3|     5|Using for Pandora...|         Easy Setup|                1234|      null|     Bot|    98|\n",
            "|AVpjEN4jLJeJML43rpUe|\"Brand New Amazon...|          B018Y225IA|         Electronics|       TRUE|          3|     5|Using for Pandora...|         Easy Setup|                1234|      null|     Bot|    98|\n",
            "|AVqkIdZiv8e3D1O-leaJ|\"Fire Tablet with...|               16 GB| Magenta - with S...| B018Y224PY|Electronics|  TRUE|                   2|                  5|Using for Pandora...|Easy Setup|    1234|     1|\n",
            "|AVpfpK8KLJeJML43BCuD|Amazon Tap Smart ...|          B01BH83OOM|         Electronics|       TRUE|          0|     4|Was a little diff...|         Amazon Tap|                1234|      null|     Bot|   180|\n",
            "|AVpfpK8KLJeJML43BCuD|Amazon Tap - Alex...|          B01BH83OOM|         Electronics|       TRUE|          0|     4|Was a little diff...|         Amazon Tap|                1234|      null|     Bot|   180|\n",
            "|AVqVGZN9QMlgsOJE6eUZ|Kindle Oasis E-re...|          B00REQKWGA|         Electronics|       TRUE|          0|     5|Wife love it, rea...|      great product|                1244|      null|     Bot|    55|\n",
            "|AVqVGZO3nnc1JgDc3jGK|Kindle Oasis E-re...|          B00VINDBJK|   Electronics,Media|       TRUE|          0|     5|Wife love it, rea...|      great product|                1244|      null|     Bot|    55|\n",
            "|AVqVGZQBQMlgsOJE6eUb|Kindle Oasis E-re...|          B00ZS0G0PG|   Electronics,Media|       TRUE|          0|     5|Wife love it, rea...|      great product|                1244|      null|     Bot|    55|\n",
            "+--------------------+--------------------+--------------------+--------------------+-----------+-----------+------+--------------------+-------------------+--------------------+----------+--------+------+\n",
            "only showing top 20 rows\n",
            "\n"
          ],
          "name": "stdout"
        }
      ]
    },
    {
      "cell_type": "code",
      "metadata": {
        "id": "tBHTNk30zfU_",
        "colab_type": "code",
        "colab": {}
      },
      "source": [
        " from pyspark.ml.feature import Tokenizer, StopWordsRemover, HashingTF, IDF, StringIndexer\n",
        "# Create all the features to the data set\n",
        "pos_neg_to_num = StringIndexer(inputCol='rating',outputCol='label')\n",
        "tokenizer = Tokenizer(inputCol=\"text\", outputCol=\"token_text\")\n",
        "stopremove = StopWordsRemover(inputCol='token_text',outputCol='stop_tokens')\n",
        "hashingTF = HashingTF(inputCol=\"token_text\", outputCol='hash_token')\n",
        "idf = IDF(inputCol='hash_token', outputCol='idf_token')"
      ],
      "execution_count": 0,
      "outputs": []
    },
    {
      "cell_type": "code",
      "metadata": {
        "id": "Pow8HsLqzfbR",
        "colab_type": "code",
        "colab": {}
      },
      "source": [
        " from pyspark.ml.feature import VectorAssembler\n",
        "from pyspark.ml.linalg import Vector\n",
        "\n",
        "# Create feature vectors\n",
        "clean_up = VectorAssembler(inputCols=['idf_token', 'length'], outputCol='features')"
      ],
      "execution_count": 0,
      "outputs": []
    },
    {
      "cell_type": "code",
      "metadata": {
        "id": "JtdtwoPvzfhC",
        "colab_type": "code",
        "colab": {}
      },
      "source": [
        "# Create a and run a data processing Pipeline\n",
        "from pyspark.ml import Pipeline\n",
        "data_prep_pipeline = Pipeline(stages=[pos_neg_to_num, tokenizer, stopremove, hashingTF, idf, clean_up])"
      ],
      "execution_count": 0,
      "outputs": []
    },
    {
      "cell_type": "code",
      "metadata": {
        "id": "tF5WZD-Azn6y",
        "colab_type": "code",
        "colab": {}
      },
      "source": [
        " # Fit and transform the pipeline\n",
        "cleaner = data_prep_pipeline.fit(data_df)\n",
        "cleaned = cleaner.transform(data_df)"
      ],
      "execution_count": 0,
      "outputs": []
    },
    {
      "cell_type": "code",
      "metadata": {
        "id": "GimhAFsPzn98",
        "colab_type": "code",
        "outputId": "87c4d366-06cc-4392-c812-c27ccb5112c1",
        "colab": {
          "base_uri": "https://localhost:8080/",
          "height": 498
        }
      },
      "source": [
        "cleaned.select(['label', 'features']).show()"
      ],
      "execution_count": 0,
      "outputs": [
        {
          "output_type": "stream",
          "text": [
            "+------+--------------------+\n",
            "| label|            features|\n",
            "+------+--------------------+\n",
            "|1774.0|(262145,[16332,25...|\n",
            "|1774.0|(262145,[16332,25...|\n",
            "|1774.0|(262145,[16332,25...|\n",
            "|7061.0|(262145,[15889,16...|\n",
            "|7061.0|(262145,[15889,16...|\n",
            "| 480.0|(262145,[15889,16...|\n",
            "| 480.0|(262145,[15889,16...|\n",
            "| 480.0|(262145,[15889,16...|\n",
            "| 480.0|(262145,[15889,16...|\n",
            "| 273.0|(262145,[12888,16...|\n",
            "| 273.0|(262145,[12888,16...|\n",
            "| 273.0|(262145,[12888,16...|\n",
            "| 273.0|(262145,[12888,16...|\n",
            "| 273.0|(262145,[12888,16...|\n",
            "|  58.0|(262145,[212053,2...|\n",
            "|3024.0|(262145,[14,2711,...|\n",
            "|3024.0|(262145,[14,2711,...|\n",
            "| 417.0|(262145,[15889,27...|\n",
            "| 417.0|(262145,[15889,27...|\n",
            "| 417.0|(262145,[15889,27...|\n",
            "+------+--------------------+\n",
            "only showing top 20 rows\n",
            "\n"
          ],
          "name": "stdout"
        }
      ]
    },
    {
      "cell_type": "code",
      "metadata": {
        "id": "sLTgygygzoEY",
        "colab_type": "code",
        "outputId": "ac23a393-b08b-44ff-d1c5-1fcc9d8627f1",
        "colab": {
          "base_uri": "https://localhost:8080/",
          "height": 240
        }
      },
      "source": [
        "test_results = predictor.transform(testing)\n",
        "test_results.show(5)"
      ],
      "execution_count": 0,
      "outputs": [
        {
          "output_type": "stream",
          "text": [
            "+--------------------+--------------------+--------------------+-----------------+-----------+----------+------+--------------------+--------------------+-----------------+----+--------+------+-----+--------------------+--------------------+--------------------+--------------------+--------------------+--------------------+--------------------+----------+\n",
            "|                  id|                name|               asins|primaryCategories|doRecommend|numHelpful|rating|                text|               title|         username|_c10|reviewer|length|label|          token_text|         stop_tokens|          hash_token|           idf_token|            features|       rawPrediction|         probability|prediction|\n",
            "+--------------------+--------------------+--------------------+-----------------+-----------+----------+------+--------------------+--------------------+-----------------+----+--------+------+-----+--------------------+--------------------+--------------------+--------------------+--------------------+--------------------+--------------------+----------+\n",
            "|AVpe6nyKLJeJML43yOe2|AmazonBasics 11.6...|B01B66989K,B00CD8...|      Electronics|       null|      null|     3|BETTER THAN NOTHI...|BETTER THAN NOTHI...|   RaphaelRicardo|null| userBot|   845|  2.0|[better, than, no...|[better, nothing,...|(262144,[343,845,...|(262144,[343,845,...|(262145,[343,845,...|[-8150.8134077549...|[2.21138976893122...|       2.0|\n",
            "|AVpe6nyKLJeJML43yOe2|AmazonBasics 11.6...|B01B66989K,B00CD8...|      Electronics|       null|      null|     3|BETTER THAN NOTHI...|BETTER THAN NOTHI...|   RaphaelRicardo|null| userBot|   845|  2.0|[better, than, no...|[better, nothing,...|(262144,[343,845,...|(262144,[343,845,...|(262145,[343,845,...|[-8150.8134077549...|[2.21138976893122...|       2.0|\n",
            "|AVpe6nyKLJeJML43yOe2|AmazonBasics 11.6...|B01B66989K,B00CD8...|      Electronics|       null|      null|     5|Recently, I spent...|Perfect. 340 peop...|         Don Juan|null| userBot|  1489|  0.0|[recently,, i, sp...|[recently,, spent...|(262144,[343,2306...|(262144,[343,2306...|(262145,[343,2306...|[-13233.721990250...|[1.0,0.0,0.0,0.0,...|       0.0|\n",
            "|AVpe7xlELJeJML43ypLz|AmazonBasics AA P...|B00QWO9P0O,B01IB8...|  Health & Beauty|       null|      null|     1|3 of them explote...|... what is going...|ByAmazon Customer|null| userBot|   132|  3.0|[3, of, them, exp...|[3, exploted, dam...|(262144,[9639,138...|(262144,[9639,138...|(262145,[9639,138...|[-818.54694667684...|[0.99994093492778...|       0.0|\n",
            "|AVpe7xlELJeJML43ypLz|AmazonBasics AA P...|B00QWO9P0O,B01IB8...|  Health & Beauty|       null|      null|     1|3/4 of the packag...|     Nope, not again|ByAmazon Customer|null|     Bot|   179|  3.0|[3/4, of, the, pa...|[3/4, package, du...|(262144,[2711,963...|(262144,[2711,963...|(262145,[2711,963...|[-1413.3531260354...|[0.99999999587370...|       0.0|\n",
            "+--------------------+--------------------+--------------------+-----------------+-----------+----------+------+--------------------+--------------------+-----------------+----+--------+------+-----+--------------------+--------------------+--------------------+--------------------+--------------------+--------------------+--------------------+----------+\n",
            "only showing top 5 rows\n",
            "\n"
          ],
          "name": "stdout"
        }
      ]
    },
    {
      "cell_type": "code",
      "metadata": {
        "id": "oC1YjDImHirM",
        "colab_type": "code",
        "colab": {}
      },
      "source": [
        " from pyspark.ml.classification import NaiveBayes\n",
        "# Break data down into a training set and a testing set\n",
        "training, testing = cleaned.randomSplit([0.7, 0.3])\n",
        "\n",
        "# Create a Naive Bayes model and fit training data\n",
        "nb = NaiveBayes()\n",
        "predictor = nb.fit(training)"
      ],
      "execution_count": 0,
      "outputs": []
    },
    {
      "cell_type": "code",
      "metadata": {
        "id": "3JebgQ082sUp",
        "colab_type": "code",
        "outputId": "f1f6c41b-7f0b-4e36-8c49-fcc5adea2a99",
        "colab": {
          "base_uri": "https://localhost:8080/",
          "height": 35
        }
      },
      "source": [
        " # Use the Class Evaluator for a cleaner description\n",
        "from pyspark.ml.evaluation import MulticlassClassificationEvaluator\n",
        "\n",
        "acc_eval = MulticlassClassificationEvaluator()\n",
        "acc = acc_eval.evaluate(test_results)\n",
        "print(\"Accuracy of model at predicting reviews was: %f\" % acc)"
      ],
      "execution_count": 0,
      "outputs": [
        {
          "output_type": "stream",
          "text": [
            "Accuracy of model at predicting reviews was: 0.701945\n"
          ],
          "name": "stdout"
        }
      ]
    },
    {
      "cell_type": "code",
      "metadata": {
        "id": "w7nH9UWj2sZf",
        "colab_type": "code",
        "colab": {}
      },
      "source": [
        ""
      ],
      "execution_count": 0,
      "outputs": []
    },
    {
      "cell_type": "code",
      "metadata": {
        "id": "qfC2GYbq2scv",
        "colab_type": "code",
        "colab": {}
      },
      "source": [
        ""
      ],
      "execution_count": 0,
      "outputs": []
    }
  ]
}