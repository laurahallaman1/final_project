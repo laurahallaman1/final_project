{
  "nbformat": 4,
  "nbformat_minor": 0,
  "metadata": {
    "colab": {
      "name": "Untitled6.ipynb",
      "provenance": [],
      "collapsed_sections": [],
      "include_colab_link": true
    },
    "kernelspec": {
      "name": "python3",
      "display_name": "Python 3"
    }
  },
  "cells": [
    {
      "cell_type": "markdown",
      "metadata": {
        "id": "view-in-github",
        "colab_type": "text"
      },
      "source": [
        "<a href=\"https://colab.research.google.com/github/laurahallaman1/final_project/blob/nickfiles/Untitled6.ipynb\" target=\"_parent\"><img src=\"https://colab.research.google.com/assets/colab-badge.svg\" alt=\"Open In Colab\"/></a>"
      ]
    },
    {
      "cell_type": "code",
      "metadata": {
        "id": "32zoXfOdFund",
        "colab_type": "code",
        "colab": {}
      },
      "source": [
        "import pandas as pd\n",
        "\n",
        "# Install Java, Spark, and Findspark\n",
        "!apt-get install openjdk-8-jdk-headless -qq > /dev/null\n",
        "!wget -q http://www-us.apache.org/dist/spark/spark-2.4.5/spark-2.4.5-bin-hadoop2.7.tgz\n",
        "!tar xf spark-2.4.5-bin-hadoop2.7.tgz\n",
        "!pip install -q findspark\n",
        "\n",
        "# Set Environment Variables\n",
        "import os\n",
        "os.environ[\"JAVA_HOME\"] = \"/usr/lib/jvm/java-8-openjdk-amd64\"\n",
        "os.environ[\"SPARK_HOME\"] = \"/content/spark-2.4.5-bin-hadoop2.7\"\n",
        "\n",
        "# Start a SparkSession\n",
        "import findspark\n",
        "findspark.init()"
      ],
      "execution_count": 0,
      "outputs": []
    },
    {
      "cell_type": "code",
      "metadata": {
        "id": "RkzAudxFX9RN",
        "colab_type": "code",
        "colab": {}
      },
      "source": [
        "# Start Spark session\n",
        "from pyspark.sql import SparkSession\n",
        "spark = SparkSession.builder.appName(\"StopWords\").getOrCreate()"
      ],
      "execution_count": 0,
      "outputs": []
    },
    {
      "cell_type": "code",
      "metadata": {
        "id": "pX9cDv_cX9eM",
        "colab_type": "code",
        "colab": {}
      },
      "source": [
        "from pyspark.ml.feature import Tokenizer, StopWordsRemover"
      ],
      "execution_count": 0,
      "outputs": []
    },
    {
      "cell_type": "code",
      "metadata": {
        "id": "U7GmIM-5X9wT",
        "colab_type": "code",
        "outputId": "ea3da758-e938-483c-c8b8-f280d0463505",
        "colab": {
          "base_uri": "https://localhost:8080/",
          "height": 459
        }
      },
      "source": [
        "# Read in data from S3 Buckets\n",
        "from pyspark import SparkFiles\n",
        "url =\"https://raw.githubusercontent.com/laurahallaman1/final_project/master/Combined_Amazon_Consumer_Reviews.csv\"\n",
        "spark.sparkContext.addFile(url)\n",
        "df = spark.read.csv(SparkFiles.get(\"Combined_Amazon_Consumer_Reviews.csv\"), sep=\",\", header=True)\n",
        "\n",
        "# Show DataFrame\n",
        "df.show()\n",
        "\n",
        "\n"
      ],
      "execution_count": 0,
      "outputs": [
        {
          "output_type": "stream",
          "text": [
            "+--------------------+--------------------+--------------------+-----------------+-----------+----------+------+--------------------+--------------------+------------------+\n",
            "|                  id|                name|               asins|primaryCategories|doRecommend|numHelpful|rating|                text|               title|          username|\n",
            "+--------------------+--------------------+--------------------+-----------------+-----------+----------+------+--------------------+--------------------+------------------+\n",
            "|AVpgNzjwLJeJML43Kpxn|AmazonBasics AAA ...|B00QWO9P0O,B00LH3...|  Health & Beauty|       null|      null|     3|I order 3 of them...|... 3 of them and...|        Byger yang|\n",
            "|AVpgNzjwLJeJML43Kpxn|AmazonBasics AAA ...|B00QWO9P0O,B00LH3...|  Health & Beauty|       null|      null|     4|Bulk is always th...|... always the le...|              ByMG|\n",
            "|AVpgNzjwLJeJML43Kpxn|AmazonBasics AAA ...|B00QWO9P0O,B00LH3...|  Health & Beauty|       null|      null|     5|Well they are not...|... are not Durac...|  BySharon Lambert|\n",
            "|AVpgNzjwLJeJML43Kpxn|AmazonBasics AAA ...|B00QWO9P0O,B00LH3...|  Health & Beauty|       null|      null|     5|Seem to work as w...|... as well as na...|     Bymark sexson|\n",
            "|AVpgNzjwLJeJML43Kpxn|AmazonBasics AAA ...|B00QWO9P0O,B00LH3...|  Health & Beauty|       null|      null|     5|These batteries a...|... batteries are...|           Bylinda|\n",
            "|AVpgNzjwLJeJML43Kpxn|AmazonBasics AAA ...|B00QWO9P0O,B00LH3...|  Health & Beauty|       null|      null|     5|Bought a lot of b...|... batteries for...|  ByPainter Marlow|\n",
            "|AVpgNzjwLJeJML43Kpxn|AmazonBasics AAA ...|B00QWO9P0O,B00LH3...|  Health & Beauty|       null|      null|     5|ive not had any p...|... batteries hav...| ByAmazon Customer|\n",
            "|AVpgNzjwLJeJML43Kpxn|AmazonBasics AAA ...|B00QWO9P0O,B00LH3...|  Health & Beauty|       null|      null|     5|Well if you are l...|... batteries tha...| ByLynn Pendegrass|\n",
            "|AVpgNzjwLJeJML43Kpxn|AmazonBasics AAA ...|B00QWO9P0O,B00LH3...|  Health & Beauty|       null|      null|     3|These do not hold...|... do not hold t...|            ByK.R.|\n",
            "|AVpgNzjwLJeJML43Kpxn|AmazonBasics AAA ...|B00QWO9P0O,B00LH3...|  Health & Beauty|       null|      null|     4|AmazonBasics AA A...|... done well by ...|      BySilverLane|\n",
            "|AVpgNzjwLJeJML43Kpxn|AmazonBasics AAA ...|B00QWO9P0O,B00LH3...|  Health & Beauty|       null|      null|     5|I find amazon bas...|... find amazon b...|          ByTXcust|\n",
            "|AVpgNzjwLJeJML43Kpxn|AmazonBasics AAA ...|B00QWO9P0O,B00LH3...|  Health & Beauty|       null|      null|     3|When I first star...|... first started...|        Byd'Isigny|\n",
            "|AVpgNzjwLJeJML43Kpxn|AmazonBasics AAA ...|B00QWO9P0O,B00LH3...|  Health & Beauty|       null|      null|     5|Use it for my fis...|... for my fish t...| ByFabiola Sarabia|\n",
            "|AVpgNzjwLJeJML43Kpxn|AmazonBasics AAA ...|B00QWO9P0O,B00LH3...|  Health & Beauty|       null|      null|     5|just got em so I ...|... got em so I c...|           ByDavyo|\n",
            "|AVpgNzjwLJeJML43Kpxn|AmazonBasics AAA ...|B00QWO9P0O,B00LH3...|  Health & Beauty|       null|      null|     5|we have many thin...|... have many thi...|ByBrenda jefferson|\n",
            "|AVpgNzjwLJeJML43Kpxn|AmazonBasics AAA ...|B00QWO9P0O,B00LH3...|  Health & Beauty|       null|      null|     5|Thankful that I w...|... I was able to...| ByAmazon Customer|\n",
            "|AVpgNzjwLJeJML43Kpxn|AmazonBasics AAA ...|B00QWO9P0O,B00LH3...|  Health & Beauty|       null|      null|     1|I don't know if I...|... know if I wou...|           ByLaura|\n",
            "|AVpgNzjwLJeJML43Kpxn|AmazonBasics AAA ...|B00QWO9P0O,B00LH3...|  Health & Beauty|       null|      null|     2|In my opinion the...|... last anywhere...|  ByFlip Flop Life|\n",
            "|AVpgNzjwLJeJML43Kpxn|AmazonBasics AAA ...|B00QWO9P0O,B00LH3...|  Health & Beauty|       null|      null|     4|They don't last a...|... last as long ...|            ByAdam|\n",
            "|AVpgNzjwLJeJML43Kpxn|AmazonBasics AAA ...|B00QWO9P0O,B00LH3...|  Health & Beauty|       null|      null|     3|Bought these batt...|... my Christmas ...| ByAmazon Customer|\n",
            "+--------------------+--------------------+--------------------+-----------------+-----------+----------+------+--------------------+--------------------+------------------+\n",
            "only showing top 20 rows\n",
            "\n"
          ],
          "name": "stdout"
        }
      ]
    },
    {
      "cell_type": "code",
      "metadata": {
        "id": "ogv6GWusYiqB",
        "colab_type": "code",
        "outputId": "18bf3452-2529-42d2-9278-daa5c47cc7a8",
        "colab": {
          "base_uri": "https://localhost:8080/",
          "height": 34
        }
      },
      "source": [
        "tokenizer = Tokenizer(inputCol=\"text\", outputCol=\"textreview\")\n",
        "tokenizer"
      ],
      "execution_count": 0,
      "outputs": [
        {
          "output_type": "execute_result",
          "data": {
            "text/plain": [
              "Tokenizer_3d3e6b012311"
            ]
          },
          "metadata": {
            "tags": []
          },
          "execution_count": 6
        }
      ]
    },
    {
      "cell_type": "code",
      "metadata": {
        "id": "UMB7cqVUYiyG",
        "colab_type": "code",
        "outputId": "d9f62992-5fdb-422c-e51f-eb3c070f821d",
        "colab": {
          "base_uri": "https://localhost:8080/",
          "height": 459
        }
      },
      "source": [
        "reviewed = tokenizer.transform(df)\n",
        "reviewed.show()"
      ],
      "execution_count": 0,
      "outputs": [
        {
          "output_type": "stream",
          "text": [
            "+--------------------+--------------------+--------------------+-----------------+-----------+----------+------+--------------------+--------------------+------------------+--------------------+\n",
            "|                  id|                name|               asins|primaryCategories|doRecommend|numHelpful|rating|                text|               title|          username|          textreview|\n",
            "+--------------------+--------------------+--------------------+-----------------+-----------+----------+------+--------------------+--------------------+------------------+--------------------+\n",
            "|AVpgNzjwLJeJML43Kpxn|AmazonBasics AAA ...|B00QWO9P0O,B00LH3...|  Health & Beauty|       null|      null|     3|I order 3 of them...|... 3 of them and...|        Byger yang|[i, order, 3, of,...|\n",
            "|AVpgNzjwLJeJML43Kpxn|AmazonBasics AAA ...|B00QWO9P0O,B00LH3...|  Health & Beauty|       null|      null|     4|Bulk is always th...|... always the le...|              ByMG|[bulk, is, always...|\n",
            "|AVpgNzjwLJeJML43Kpxn|AmazonBasics AAA ...|B00QWO9P0O,B00LH3...|  Health & Beauty|       null|      null|     5|Well they are not...|... are not Durac...|  BySharon Lambert|[well, they, are,...|\n",
            "|AVpgNzjwLJeJML43Kpxn|AmazonBasics AAA ...|B00QWO9P0O,B00LH3...|  Health & Beauty|       null|      null|     5|Seem to work as w...|... as well as na...|     Bymark sexson|[seem, to, work, ...|\n",
            "|AVpgNzjwLJeJML43Kpxn|AmazonBasics AAA ...|B00QWO9P0O,B00LH3...|  Health & Beauty|       null|      null|     5|These batteries a...|... batteries are...|           Bylinda|[these, batteries...|\n",
            "|AVpgNzjwLJeJML43Kpxn|AmazonBasics AAA ...|B00QWO9P0O,B00LH3...|  Health & Beauty|       null|      null|     5|Bought a lot of b...|... batteries for...|  ByPainter Marlow|[bought, a, lot, ...|\n",
            "|AVpgNzjwLJeJML43Kpxn|AmazonBasics AAA ...|B00QWO9P0O,B00LH3...|  Health & Beauty|       null|      null|     5|ive not had any p...|... batteries hav...| ByAmazon Customer|[ive, not, had, a...|\n",
            "|AVpgNzjwLJeJML43Kpxn|AmazonBasics AAA ...|B00QWO9P0O,B00LH3...|  Health & Beauty|       null|      null|     5|Well if you are l...|... batteries tha...| ByLynn Pendegrass|[well, if, you, a...|\n",
            "|AVpgNzjwLJeJML43Kpxn|AmazonBasics AAA ...|B00QWO9P0O,B00LH3...|  Health & Beauty|       null|      null|     3|These do not hold...|... do not hold t...|            ByK.R.|[these, do, not, ...|\n",
            "|AVpgNzjwLJeJML43Kpxn|AmazonBasics AAA ...|B00QWO9P0O,B00LH3...|  Health & Beauty|       null|      null|     4|AmazonBasics AA A...|... done well by ...|      BySilverLane|[amazonbasics, aa...|\n",
            "|AVpgNzjwLJeJML43Kpxn|AmazonBasics AAA ...|B00QWO9P0O,B00LH3...|  Health & Beauty|       null|      null|     5|I find amazon bas...|... find amazon b...|          ByTXcust|[i, find, amazon,...|\n",
            "|AVpgNzjwLJeJML43Kpxn|AmazonBasics AAA ...|B00QWO9P0O,B00LH3...|  Health & Beauty|       null|      null|     3|When I first star...|... first started...|        Byd'Isigny|[when, i, first, ...|\n",
            "|AVpgNzjwLJeJML43Kpxn|AmazonBasics AAA ...|B00QWO9P0O,B00LH3...|  Health & Beauty|       null|      null|     5|Use it for my fis...|... for my fish t...| ByFabiola Sarabia|[use, it, for, my...|\n",
            "|AVpgNzjwLJeJML43Kpxn|AmazonBasics AAA ...|B00QWO9P0O,B00LH3...|  Health & Beauty|       null|      null|     5|just got em so I ...|... got em so I c...|           ByDavyo|[just, got, em, s...|\n",
            "|AVpgNzjwLJeJML43Kpxn|AmazonBasics AAA ...|B00QWO9P0O,B00LH3...|  Health & Beauty|       null|      null|     5|we have many thin...|... have many thi...|ByBrenda jefferson|[we, have, many, ...|\n",
            "|AVpgNzjwLJeJML43Kpxn|AmazonBasics AAA ...|B00QWO9P0O,B00LH3...|  Health & Beauty|       null|      null|     5|Thankful that I w...|... I was able to...| ByAmazon Customer|[thankful, that, ...|\n",
            "|AVpgNzjwLJeJML43Kpxn|AmazonBasics AAA ...|B00QWO9P0O,B00LH3...|  Health & Beauty|       null|      null|     1|I don't know if I...|... know if I wou...|           ByLaura|[i, don't, know, ...|\n",
            "|AVpgNzjwLJeJML43Kpxn|AmazonBasics AAA ...|B00QWO9P0O,B00LH3...|  Health & Beauty|       null|      null|     2|In my opinion the...|... last anywhere...|  ByFlip Flop Life|[in, my, opinion,...|\n",
            "|AVpgNzjwLJeJML43Kpxn|AmazonBasics AAA ...|B00QWO9P0O,B00LH3...|  Health & Beauty|       null|      null|     4|They don't last a...|... last as long ...|            ByAdam|[they, don't, las...|\n",
            "|AVpgNzjwLJeJML43Kpxn|AmazonBasics AAA ...|B00QWO9P0O,B00LH3...|  Health & Beauty|       null|      null|     3|Bought these batt...|... my Christmas ...| ByAmazon Customer|[bought, these, b...|\n",
            "+--------------------+--------------------+--------------------+-----------------+-----------+----------+------+--------------------+--------------------+------------------+--------------------+\n",
            "only showing top 20 rows\n",
            "\n"
          ],
          "name": "stdout"
        }
      ]
    },
    {
      "cell_type": "code",
      "metadata": {
        "id": "tCS1R5LlrAsC",
        "colab_type": "code",
        "outputId": "079bb25b-d3e2-4e92-9e1c-c934ae608556",
        "colab": {
          "base_uri": "https://localhost:8080/",
          "height": 34
        }
      },
      "source": [
        "remover = StopWordsRemover(inputCol=\"textreview\", outputCol=\"new_review\")\n",
        "remover"
      ],
      "execution_count": 0,
      "outputs": [
        {
          "output_type": "execute_result",
          "data": {
            "text/plain": [
              "StopWordsRemover_38127a480dac"
            ]
          },
          "metadata": {
            "tags": []
          },
          "execution_count": 8
        }
      ]
    },
    {
      "cell_type": "code",
      "metadata": {
        "id": "9zZvLvln8NJj",
        "colab_type": "code",
        "outputId": "39f48a15-24f4-41a7-e83a-bd67b16c34ea",
        "colab": {
          "base_uri": "https://localhost:8080/",
          "height": 459
        }
      },
      "source": [
        "frame = remover.transform(reviewed)\n",
        "frame.show()"
      ],
      "execution_count": 0,
      "outputs": [
        {
          "output_type": "stream",
          "text": [
            "+--------------------+--------------------+--------------------+-----------------+-----------+----------+------+--------------------+--------------------+------------------+--------------------+--------------------+\n",
            "|                  id|                name|               asins|primaryCategories|doRecommend|numHelpful|rating|                text|               title|          username|          textreview|          new_review|\n",
            "+--------------------+--------------------+--------------------+-----------------+-----------+----------+------+--------------------+--------------------+------------------+--------------------+--------------------+\n",
            "|AVpgNzjwLJeJML43Kpxn|AmazonBasics AAA ...|B00QWO9P0O,B00LH3...|  Health & Beauty|       null|      null|     3|I order 3 of them...|... 3 of them and...|        Byger yang|[i, order, 3, of,...|[order, 3, one, i...|\n",
            "|AVpgNzjwLJeJML43Kpxn|AmazonBasics AAA ...|B00QWO9P0O,B00LH3...|  Health & Beauty|       null|      null|     4|Bulk is always th...|... always the le...|              ByMG|[bulk, is, always...|[bulk, always, le...|\n",
            "|AVpgNzjwLJeJML43Kpxn|AmazonBasics AAA ...|B00QWO9P0O,B00LH3...|  Health & Beauty|       null|      null|     5|Well they are not...|... are not Durac...|  BySharon Lambert|[well, they, are,...|[well, duracell, ...|\n",
            "|AVpgNzjwLJeJML43Kpxn|AmazonBasics AAA ...|B00QWO9P0O,B00LH3...|  Health & Beauty|       null|      null|     5|Seem to work as w...|... as well as na...|     Bymark sexson|[seem, to, work, ...|[seem, work, well...|\n",
            "|AVpgNzjwLJeJML43Kpxn|AmazonBasics AAA ...|B00QWO9P0O,B00LH3...|  Health & Beauty|       null|      null|     5|These batteries a...|... batteries are...|           Bylinda|[these, batteries...|[batteries, long,...|\n",
            "|AVpgNzjwLJeJML43Kpxn|AmazonBasics AAA ...|B00QWO9P0O,B00LH3...|  Health & Beauty|       null|      null|     5|Bought a lot of b...|... batteries for...|  ByPainter Marlow|[bought, a, lot, ...|[bought, lot, bat...|\n",
            "|AVpgNzjwLJeJML43Kpxn|AmazonBasics AAA ...|B00QWO9P0O,B00LH3...|  Health & Beauty|       null|      null|     5|ive not had any p...|... batteries hav...| ByAmazon Customer|[ive, not, had, a...|[ive, problame, b...|\n",
            "|AVpgNzjwLJeJML43Kpxn|AmazonBasics AAA ...|B00QWO9P0O,B00LH3...|  Health & Beauty|       null|      null|     5|Well if you are l...|... batteries tha...| ByLynn Pendegrass|[well, if, you, a...|[well, looking, c...|\n",
            "|AVpgNzjwLJeJML43Kpxn|AmazonBasics AAA ...|B00QWO9P0O,B00LH3...|  Health & Beauty|       null|      null|     3|These do not hold...|... do not hold t...|            ByK.R.|[these, do, not, ...|[hold, amount, hi...|\n",
            "|AVpgNzjwLJeJML43Kpxn|AmazonBasics AAA ...|B00QWO9P0O,B00LH3...|  Health & Beauty|       null|      null|     4|AmazonBasics AA A...|... done well by ...|      BySilverLane|[amazonbasics, aa...|[amazonbasics, aa...|\n",
            "|AVpgNzjwLJeJML43Kpxn|AmazonBasics AAA ...|B00QWO9P0O,B00LH3...|  Health & Beauty|       null|      null|     5|I find amazon bas...|... find amazon b...|          ByTXcust|[i, find, amazon,...|[find, amazon, ba...|\n",
            "|AVpgNzjwLJeJML43Kpxn|AmazonBasics AAA ...|B00QWO9P0O,B00LH3...|  Health & Beauty|       null|      null|     3|When I first star...|... first started...|        Byd'Isigny|[when, i, first, ...|[first, started, ...|\n",
            "|AVpgNzjwLJeJML43Kpxn|AmazonBasics AAA ...|B00QWO9P0O,B00LH3...|  Health & Beauty|       null|      null|     5|Use it for my fis...|... for my fish t...| ByFabiola Sarabia|[use, it, for, my...|[use, fish, tank'...|\n",
            "|AVpgNzjwLJeJML43Kpxn|AmazonBasics AAA ...|B00QWO9P0O,B00LH3...|  Health & Beauty|       null|      null|     5|just got em so I ...|... got em so I c...|           ByDavyo|[just, got, em, s...|[got, em, really,...|\n",
            "|AVpgNzjwLJeJML43Kpxn|AmazonBasics AAA ...|B00QWO9P0O,B00LH3...|  Health & Beauty|       null|      null|     5|we have many thin...|... have many thi...|ByBrenda jefferson|[we, have, many, ...|[many, things, ne...|\n",
            "|AVpgNzjwLJeJML43Kpxn|AmazonBasics AAA ...|B00QWO9P0O,B00LH3...|  Health & Beauty|       null|      null|     5|Thankful that I w...|... I was able to...| ByAmazon Customer|[thankful, that, ...|[thankful, able, ...|\n",
            "|AVpgNzjwLJeJML43Kpxn|AmazonBasics AAA ...|B00QWO9P0O,B00LH3...|  Health & Beauty|       null|      null|     1|I don't know if I...|... know if I wou...|           ByLaura|[i, don't, know, ...|[know, buy, thus,...|\n",
            "|AVpgNzjwLJeJML43Kpxn|AmazonBasics AAA ...|B00QWO9P0O,B00LH3...|  Health & Beauty|       null|      null|     2|In my opinion the...|... last anywhere...|  ByFlip Flop Life|[in, my, opinion,...|[opinion, last, a...|\n",
            "|AVpgNzjwLJeJML43Kpxn|AmazonBasics AAA ...|B00QWO9P0O,B00LH3...|  Health & Beauty|       null|      null|     4|They don't last a...|... last as long ...|            ByAdam|[they, don't, las...|[last, long, bran...|\n",
            "|AVpgNzjwLJeJML43Kpxn|AmazonBasics AAA ...|B00QWO9P0O,B00LH3...|  Health & Beauty|       null|      null|     3|Bought these batt...|... my Christmas ...| ByAmazon Customer|[bought, these, b...|[bought, batterie...|\n",
            "+--------------------+--------------------+--------------------+-----------------+-----------+----------+------+--------------------+--------------------+------------------+--------------------+--------------------+\n",
            "only showing top 20 rows\n",
            "\n"
          ],
          "name": "stdout"
        }
      ]
    },
    {
      "cell_type": "code",
      "metadata": {
        "id": "jfKH0aE98dwt",
        "colab_type": "code",
        "colab": {}
      },
      "source": [
        "remover = StopWordsRemover(inputCol=\" new_review\", outputCol=\"filtered\")"
      ],
      "execution_count": 0,
      "outputs": []
    },
    {
      "cell_type": "code",
      "metadata": {
        "colab_type": "code",
        "id": "QtkXCxn80-B4",
        "outputId": "cd88d8f4-474a-49d6-c7b8-ffec839f8383",
        "colab": {
          "base_uri": "https://localhost:8080/",
          "height": 479
        }
      },
      "source": [
        "frame.select(\"rating\",\"new_review\").show(truncate=False)\n"
      ],
      "execution_count": 0,
      "outputs": [
        {
          "output_type": "stream",
          "text": [
            "+------+----------------------------------------------------------------------------------------------------------------------------------------------------------------------------------------------------------------------------------------------------------------------------------------------------------------------------------+\n",
            "|rating|new_review                                                                                                                                                                                                                                                                                                                        |\n",
            "+------+----------------------------------------------------------------------------------------------------------------------------------------------------------------------------------------------------------------------------------------------------------------------------------------------------------------------------------+\n",
            "|3     |[order, 3, one, item, bad, quality., missing, backup, spring, put, pcs, aluminum, make, battery, work.]                                                                                                                                                                                                                           |\n",
            "|4     |[bulk, always, less, expensive, way, go, products, like]                                                                                                                                                                                                                                                                          |\n",
            "|5     |[well, duracell, price, happy.]                                                                                                                                                                                                                                                                                                   |\n",
            "|5     |[seem, work, well, name, brand, batteries, much, better, price]                                                                                                                                                                                                                                                                   |\n",
            "|5     |[batteries, long, lasting, price, great.]                                                                                                                                                                                                                                                                                         |\n",
            "|5     |[bought, lot, batteries, christmas, amazonbasics, cell, good., noticed, difference, brand, name, batteries, amazon, basic, brand., lot, easier, purchase, arrive, house, hand., buy, again.]                                                                                                                                      |\n",
            "|5     |[ive, problame, batteries, ordered, past, pleased.]                                                                                                                                                                                                                                                                               |\n",
            "|5     |[well, looking, cheap, non-rechargeable, batteries, last, quite, perfect., nothing, say.]                                                                                                                                                                                                                                         |\n",
            "|3     |[hold, amount, high, power, juice, like, energizer, duracell,, half, price.]                                                                                                                                                                                                                                                      |\n",
            "|4     |[amazonbasics, aa, aaa, batteries, done, well, appear, good, shelf, life., buy, again.]                                                                                                                                                                                                                                           |\n",
            "|5     |[find, amazon, basics, batteries, equal, superior, name, brand, ones., believe, start, buying, sooner!, packages, large, price, great, too.]                                                                                                                                                                                      |\n",
            "|3     |[first, started, getting, amazon, basic, batteries, really, liked, them., recent, purchases,, seem, last, like, had,, maybe, mixed-bag, (inconsistent, lasting, better, others)., done, tests,, feel, brands, may, last, longer., however,, price, hard, beat.]                                                                   |\n",
            "|5     |[use, fish, tank's, light, night, works, great,, love, easily, switch, want, guests, there.]                                                                                                                                                                                                                                      |\n",
            "|5     |[got, em, really, comment, good, job,, good, price,, quick, delivery, put, two, one, keyboards, go, year, say, three, days]                                                                                                                                                                                                       |\n",
            "|5     |[many, things, need, aa, battery, great]                                                                                                                                                                                                                                                                                          |\n",
            "|5     |[thankful, able, find, amazon, great, price, even, better, shipping., arrived, perfect, condition, exactly, needed, to., great, purchase, purchase, again.]                                                                                                                                                                       |\n",
            "|1     |[know, buy, thus, brand, seems, like, last, long, duracell]                                                                                                                                                                                                                                                                       |\n",
            "|2     |[opinion, last, anywhere, near, long, duracel, things, like, led, candles, (which, crazy), trail, cameras., cameras, exposed, cold, temps, less, batteries., buy, bulk, north, house., amazon, basics, great, things, like, sheets, beeding, towels., opinion, battery, life,, large, package, aaa, aa, size, purchased, lacking.]|\n",
            "|4     |[last, long, brand, name, good, enough, considering, much, cheaper.]                                                                                                                                                                                                                                                              |\n",
            "|3     |[bought, batteries, christmas, gifts, month, (december), lasted, like, 2months, toys, need, replacement, batteries, ., also, used, doorbell, needs, replacement, batteries., tv, remote, control, still, working, batteries, last, long...]                                                                                       |\n",
            "+------+----------------------------------------------------------------------------------------------------------------------------------------------------------------------------------------------------------------------------------------------------------------------------------------------------------------------------------+\n",
            "only showing top 20 rows\n",
            "\n"
          ],
          "name": "stdout"
        }
      ]
    },
    {
      "cell_type": "code",
      "metadata": {
        "id": "gvyA4LCoWgGF",
        "colab_type": "code",
        "colab": {}
      },
      "source": [
        "frame.toPandas().to_csv('StopWords.csv')"
      ],
      "execution_count": 0,
      "outputs": []
    }
  ]
}